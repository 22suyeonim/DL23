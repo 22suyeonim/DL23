{
  "nbformat": 4,
  "nbformat_minor": 0,
  "metadata": {
    "colab": {
      "provenance": [],
      "authorship_tag": "ABX9TyN2bMSHUcherftGMiwM0Qhv",
      "include_colab_link": true
    },
    "kernelspec": {
      "name": "python3",
      "display_name": "Python 3"
    },
    "language_info": {
      "name": "python"
    }
  },
  "cells": [
    {
      "cell_type": "markdown",
      "metadata": {
        "id": "view-in-github",
        "colab_type": "text"
      },
      "source": [
        "<a href=\"https://colab.research.google.com/github/22suyeonim/DL23/blob/main/Untitled2.ipynb\" target=\"_parent\"><img src=\"https://colab.research.google.com/assets/colab-badge.svg\" alt=\"Open In Colab\"/></a>"
      ]
    },
    {
      "cell_type": "code",
      "source": [
        "!pip install gTTS\n",
        "from gtts import gTTS\n",
        "from IPython.display import Audio\n",
        "\n",
        "def tts(text):\n",
        "  gtts_object = gTTS(text,lang = \"ko\", slow = True) \n",
        "  gtts_object.save(\"myaudio.mp3\")\n",
        "  return Audio(\"myaudio.mp3\")"
      ],
      "metadata": {
        "colab": {
          "base_uri": "https://localhost:8080/"
        },
        "id": "n4n5jF8Cr-mZ",
        "outputId": "7a06cb51-53df-4092-dbdd-a43bca5b942b"
      },
      "execution_count": 25,
      "outputs": [
        {
          "output_type": "stream",
          "name": "stdout",
          "text": [
            "Looking in indexes: https://pypi.org/simple, https://us-python.pkg.dev/colab-wheels/public/simple/\n",
            "Requirement already satisfied: gTTS in /usr/local/lib/python3.10/dist-packages (2.3.2)\n",
            "Requirement already satisfied: requests<3,>=2.27 in /usr/local/lib/python3.10/dist-packages (from gTTS) (2.27.1)\n",
            "Requirement already satisfied: click<8.2,>=7.1 in /usr/local/lib/python3.10/dist-packages (from gTTS) (8.1.3)\n",
            "Requirement already satisfied: idna<4,>=2.5 in /usr/local/lib/python3.10/dist-packages (from requests<3,>=2.27->gTTS) (3.4)\n",
            "Requirement already satisfied: certifi>=2017.4.17 in /usr/local/lib/python3.10/dist-packages (from requests<3,>=2.27->gTTS) (2022.12.7)\n",
            "Requirement already satisfied: urllib3<1.27,>=1.21.1 in /usr/local/lib/python3.10/dist-packages (from requests<3,>=2.27->gTTS) (1.26.15)\n",
            "Requirement already satisfied: charset-normalizer~=2.0.0 in /usr/local/lib/python3.10/dist-packages (from requests<3,>=2.27->gTTS) (2.0.12)\n"
          ]
        }
      ]
    },
    {
      "cell_type": "code",
      "source": [
        "tts('안녕하세요요')"
      ],
      "metadata": {
        "colab": {
          "base_uri": "https://localhost:8080/",
          "height": 74
        },
        "id": "h9ffrwn4sC6J",
        "outputId": "1f363edd-77fb-4179-c75c-149c9148fb16"
      },
      "execution_count": 26,
      "outputs": [
        {
          "output_type": "execute_result",
          "data": {
            "text/plain": [
              "<IPython.lib.display.Audio object>"
            ],
            "text/html": [
              "\n",
              "                <audio  controls=\"controls\" >\n",
              "                    <source src=\"data:audio/mpeg;base64,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\" type=\"audio/mpeg\" />\n",
              "                    Your browser does not support the audio element.\n",
              "                </audio>\n",
              "              "
            ]
          },
          "metadata": {},
          "execution_count": 26
        }
      ]
    },
    {
      "cell_type": "code",
      "source": [
        "a=1\n",
        "b=\"2\"\n",
        "print(a)\n",
        "print(b)\n",
        "type(b)\n"
      ],
      "metadata": {
        "colab": {
          "base_uri": "https://localhost:8080/"
        },
        "id": "N9Y8dlsJs-tZ",
        "outputId": "62f06888-c474-4a51-af01-f030cb4209f1"
      },
      "execution_count": 30,
      "outputs": [
        {
          "output_type": "stream",
          "name": "stdout",
          "text": [
            "1\n",
            "2\n"
          ]
        },
        {
          "output_type": "execute_result",
          "data": {
            "text/plain": [
              "str"
            ]
          },
          "metadata": {},
          "execution_count": 30
        }
      ]
    },
    {
      "cell_type": "code",
      "source": [
        "x=1\n",
        "y=7\n",
        "print(x, y)"
      ],
      "metadata": {
        "colab": {
          "base_uri": "https://localhost:8080/"
        },
        "id": "vIllKZdKtced",
        "outputId": "33d972af-2498-457f-8e06-84909da226b1"
      },
      "execution_count": 33,
      "outputs": [
        {
          "output_type": "stream",
          "name": "stdout",
          "text": [
            "1 7\n"
          ]
        }
      ]
    },
    {
      "cell_type": "code",
      "source": [
        "x = \"hello, class!\"\n",
        "x1 = x +\"welcome to the class.\"\n",
        "y=[1, 2, 3,]\n",
        "y1=y+[3, 2, 1]\n",
        "print(x1, y1)"
      ],
      "metadata": {
        "colab": {
          "base_uri": "https://localhost:8080/"
        },
        "id": "8hbNsdWLt42w",
        "outputId": "f2e1c797-6d67-4973-dd80-c789bac1904a"
      },
      "execution_count": 35,
      "outputs": [
        {
          "output_type": "stream",
          "name": "stdout",
          "text": [
            "hello, class!welcome to the class. [1, 2, 3, 3, 2, 1]\n"
          ]
        }
      ]
    },
    {
      "cell_type": "code",
      "source": [
        "x=2; y=5\n",
        "a=x**y\n",
        "b=x/y\n",
        "c=x-y\n",
        "print(a, b, c)"
      ],
      "metadata": {
        "colab": {
          "base_uri": "https://localhost:8080/"
        },
        "id": "zqHdHmjYudZc",
        "outputId": "fe190ed6-2731-405f-a090-5400ffc907da"
      },
      "execution_count": 37,
      "outputs": [
        {
          "output_type": "stream",
          "name": "stdout",
          "text": [
            "32 0.4 -3\n"
          ]
        }
      ]
    },
    {
      "cell_type": "code",
      "source": [
        "x=2; y=4"
      ],
      "metadata": {
        "id": "NaHCHforu-0A"
      },
      "execution_count": 41,
      "outputs": []
    },
    {
      "cell_type": "code",
      "source": [
        "def add(x, y):\n",
        "   return x + y\n"
      ],
      "metadata": {
        "id": "7i5XgrQauuiA"
      },
      "execution_count": 64,
      "outputs": []
    },
    {
      "cell_type": "code",
      "source": [
        "add(2, 6)"
      ],
      "metadata": {
        "colab": {
          "base_uri": "https://localhost:8080/"
        },
        "id": "bFHnqPK3u6WY",
        "outputId": "82bcec28-e33b-475c-9839-71f243eb063e"
      },
      "execution_count": 46,
      "outputs": [
        {
          "output_type": "execute_result",
          "data": {
            "text/plain": [
              "8"
            ]
          },
          "metadata": {},
          "execution_count": 46
        }
      ]
    },
    {
      "cell_type": "code",
      "source": [
        "%%capture\n",
        "!pip install gtts\n",
        "from gtts import gTTS"
      ],
      "metadata": {
        "id": "3zIFdvRivjFw"
      },
      "execution_count": null,
      "outputs": []
    },
    {
      "cell_type": "code",
      "source": [
        "x=1 \n",
        "y=3\n",
        "z=x+y\n",
        "\n",
        "print(z)\n",
        "type(z)\n",
        "\n",
        "x1= \"1\"\n",
        "y1= \"3\"\n",
        "z1=x1+y1\n",
        "print(z1)\n",
        "type(z1)"
      ],
      "metadata": {
        "colab": {
          "base_uri": "https://localhost:8080/"
        },
        "id": "565uP8IuwN60",
        "outputId": "cabcd7a9-3b60-47ee-9c55-b556678d98a3"
      },
      "execution_count": 52,
      "outputs": [
        {
          "output_type": "stream",
          "name": "stdout",
          "text": [
            "4\n",
            "13\n"
          ]
        },
        {
          "output_type": "execute_result",
          "data": {
            "text/plain": [
              "str"
            ]
          },
          "metadata": {},
          "execution_count": 52
        }
      ]
    },
    {
      "cell_type": "code",
      "source": [
        "\n",
        "print(type(z), type(z1))"
      ],
      "metadata": {
        "colab": {
          "base_uri": "https://localhost:8080/"
        },
        "id": "WD1c3UuxxCx2",
        "outputId": "38ad3454-5744-429e-da3f-2cb7c44ae6f7"
      },
      "execution_count": 54,
      "outputs": [
        {
          "output_type": "stream",
          "name": "stdout",
          "text": [
            "<class 'int'> <class 'str'>\n"
          ]
        }
      ]
    },
    {
      "cell_type": "markdown",
      "source": [
        "input type: integer string float"
      ],
      "metadata": {
        "id": "pvKdm-OKwY1s"
      }
    },
    {
      "cell_type": "code",
      "source": [
        "x=1; y=3\n",
        "add(x, y)\n",
        "print('the underlined part is: ', add(x, y))"
      ],
      "metadata": {
        "colab": {
          "base_uri": "https://localhost:8080/"
        },
        "id": "ztTNMlvCxM8M",
        "outputId": "94ba1c59-a66d-40b1-b094-bae72978414f"
      },
      "execution_count": 56,
      "outputs": [
        {
          "output_type": "stream",
          "name": "stdout",
          "text": [
            "the underlined part is:  4\n"
          ]
        }
      ]
    },
    {
      "cell_type": "code",
      "source": [
        "def switch(x, y):\n",
        "    return y, x\n",
        "\n"
      ],
      "metadata": {
        "id": "TLvLXxt4xrV2"
      },
      "execution_count": 61,
      "outputs": []
    },
    {
      "cell_type": "code",
      "source": [
        "switch(9, 3)"
      ],
      "metadata": {
        "colab": {
          "base_uri": "https://localhost:8080/"
        },
        "id": "LH2n2E4MyvSR",
        "outputId": "405a0430-5811-4df7-fcdb-fd5a0b138d6a"
      },
      "execution_count": 68,
      "outputs": [
        {
          "output_type": "execute_result",
          "data": {
            "text/plain": [
              "(3, 9)"
            ]
          },
          "metadata": {},
          "execution_count": 68
        }
      ]
    },
    {
      "cell_type": "code",
      "source": [
        "import random #랜덤하기전에 이거 꼭 넣기기"
      ],
      "metadata": {
        "id": "apRANKRe0_qa"
      },
      "execution_count": 73,
      "outputs": []
    },
    {
      "cell_type": "code",
      "source": [
        "random.randint(1, 10)"
      ],
      "metadata": {
        "colab": {
          "base_uri": "https://localhost:8080/"
        },
        "id": "RJ3F2m2_1KVp",
        "outputId": "119afaaa-e9d3-43c1-eaab-9eb0b6491b49"
      },
      "execution_count": 72,
      "outputs": [
        {
          "output_type": "execute_result",
          "data": {
            "text/plain": [
              "8"
            ]
          },
          "metadata": {},
          "execution_count": 72
        }
      ]
    },
    {
      "cell_type": "code",
      "source": [
        "a= random.randint(1, 10)\n",
        "a1= a * 9\n",
        "a1"
      ],
      "metadata": {
        "colab": {
          "base_uri": "https://localhost:8080/"
        },
        "id": "z01Nca_r1bwD",
        "outputId": "df5f98cc-90bf-485b-c88e-fe83753e2fb1"
      },
      "execution_count": 75,
      "outputs": [
        {
          "output_type": "execute_result",
          "data": {
            "text/plain": [
              "54"
            ]
          },
          "metadata": {},
          "execution_count": 75
        }
      ]
    },
    {
      "cell_type": "code",
      "source": [
        "a=\"화이팅\"# 프린트 안하면 답변에 ''이거 붙고 프린트하면 아무것도 안붙음음\n",
        "a*10"
      ],
      "metadata": {
        "colab": {
          "base_uri": "https://localhost:8080/",
          "height": 36
        },
        "id": "EQHoF90N2l56",
        "outputId": "22926835-d93c-4cf6-daca-a62f47177bcf"
      },
      "execution_count": 96,
      "outputs": [
        {
          "output_type": "execute_result",
          "data": {
            "text/plain": [
              "'화이팅화이팅화이팅화이팅화이팅화이팅화이팅화이팅화이팅화이팅'"
            ],
            "application/vnd.google.colaboratory.intrinsic+json": {
              "type": "string"
            }
          },
          "metadata": {},
          "execution_count": 96
        }
      ]
    },
    {
      "cell_type": "code",
      "source": [
        "i=[1, 2, 3]\n",
        "i"
      ],
      "metadata": {
        "colab": {
          "base_uri": "https://localhost:8080/"
        },
        "id": "dSvKMdcc2ypj",
        "outputId": "87c058a9-9d47-4ba0-81ac-3a8057612770"
      },
      "execution_count": 82,
      "outputs": [
        {
          "output_type": "execute_result",
          "data": {
            "text/plain": [
              "[1, 2, 3]"
            ]
          },
          "metadata": {},
          "execution_count": 82
        }
      ]
    },
    {
      "cell_type": "code",
      "source": [
        "i[2]"
      ],
      "metadata": {
        "colab": {
          "base_uri": "https://localhost:8080/"
        },
        "id": "rdvGIglw3MiX",
        "outputId": "4e63a6ee-8eb9-4d31-ff65-cd0697f88642"
      },
      "execution_count": 83,
      "outputs": [
        {
          "output_type": "execute_result",
          "data": {
            "text/plain": [
              "3"
            ]
          },
          "metadata": {},
          "execution_count": 83
        }
      ]
    },
    {
      "cell_type": "code",
      "source": [
        "m=range(1,5)\n",
        "list(m)"
      ],
      "metadata": {
        "colab": {
          "base_uri": "https://localhost:8080/"
        },
        "id": "Z6lCfsd93ZLb",
        "outputId": "ee82ee3f-1ec0-44e1-832d-3691d5983e72"
      },
      "execution_count": 84,
      "outputs": [
        {
          "output_type": "execute_result",
          "data": {
            "text/plain": [
              "[1, 2, 3, 4]"
            ]
          },
          "metadata": {},
          "execution_count": 84
        }
      ]
    },
    {
      "cell_type": "code",
      "source": [
        "n=\"john\"\n",
        "list(n)"
      ],
      "metadata": {
        "colab": {
          "base_uri": "https://localhost:8080/"
        },
        "id": "g-6fU9U63in4",
        "outputId": "59a91777-90fe-4604-c7e7-4ac98f38546e"
      },
      "execution_count": 85,
      "outputs": [
        {
          "output_type": "execute_result",
          "data": {
            "text/plain": [
              "['j', 'o', 'h', 'n']"
            ]
          },
          "metadata": {},
          "execution_count": 85
        }
      ]
    },
    {
      "cell_type": "code",
      "source": [
        "dict={\"me\":\"my\",\"you\":\"your\"} # 스트링이니깐 \"빼먹지 말기\n",
        "dict[\"you\"]"
      ],
      "metadata": {
        "colab": {
          "base_uri": "https://localhost:8080/",
          "height": 36
        },
        "id": "x-9SUvn-3qkQ",
        "outputId": "cd6bad28-7663-42be-8533-8ee80df56a09"
      },
      "execution_count": 88,
      "outputs": [
        {
          "output_type": "execute_result",
          "data": {
            "text/plain": [
              "'your'"
            ],
            "application/vnd.google.colaboratory.intrinsic+json": {
              "type": "string"
            }
          },
          "metadata": {},
          "execution_count": 88
        }
      ]
    },
    {
      "cell_type": "code",
      "source": [
        "class_size={\"class a\":20, \"class b\": 5}\n",
        "class_size[\"class a\"]"
      ],
      "metadata": {
        "colab": {
          "base_uri": "https://localhost:8080/"
        },
        "id": "HlFTwMHW4HC0",
        "outputId": "e9d000b0-bae0-42f3-e4b1-d530aeef297e"
      },
      "execution_count": 89,
      "outputs": [
        {
          "output_type": "execute_result",
          "data": {
            "text/plain": [
              "20"
            ]
          },
          "metadata": {},
          "execution_count": 89
        }
      ]
    },
    {
      "cell_type": "code",
      "source": [
        "x=input()\n",
        "print(\"my number is:\", x)"
      ],
      "metadata": {
        "colab": {
          "base_uri": "https://localhost:8080/"
        },
        "id": "D0KMuTFK4ZC7",
        "outputId": "b3920b1d-7502-490d-afcf-d5573638f450"
      },
      "execution_count": 91,
      "outputs": [
        {
          "output_type": "stream",
          "name": "stdout",
          "text": [
            "9\n",
            "my number is: 9\n"
          ]
        }
      ]
    },
    {
      "cell_type": "code",
      "source": [
        "i=input()\n",
        "i"
      ],
      "metadata": {
        "colab": {
          "base_uri": "https://localhost:8080/",
          "height": 54
        },
        "id": "ZdU0mICH40zx",
        "outputId": "08fec5d5-61ad-4008-8846-7f55bd7bcd66"
      },
      "execution_count": 93,
      "outputs": [
        {
          "name": "stdout",
          "output_type": "stream",
          "text": [
            "4\n"
          ]
        },
        {
          "output_type": "execute_result",
          "data": {
            "text/plain": [
              "'4'"
            ],
            "application/vnd.google.colaboratory.intrinsic+json": {
              "type": "string"
            }
          },
          "metadata": {},
          "execution_count": 93
        }
      ]
    },
    {
      "cell_type": "code",
      "source": [
        "i*6"
      ],
      "metadata": {
        "colab": {
          "base_uri": "https://localhost:8080/",
          "height": 36
        },
        "id": "9d2hVRWg5Dta",
        "outputId": "93cdbbec-6abf-4ade-bf49-a637d822a075"
      },
      "execution_count": 94,
      "outputs": [
        {
          "output_type": "execute_result",
          "data": {
            "text/plain": [
              "'444444'"
            ],
            "application/vnd.google.colaboratory.intrinsic+json": {
              "type": "string"
            }
          },
          "metadata": {},
          "execution_count": 94
        }
      ]
    },
    {
      "cell_type": "code",
      "source": [
        "i=int(i)\n",
        "type(i)"
      ],
      "metadata": {
        "colab": {
          "base_uri": "https://localhost:8080/"
        },
        "id": "j3VrVj8k5KaH",
        "outputId": "e6a0651e-65d5-4dc1-da12-07d09f1add03"
      },
      "execution_count": 95,
      "outputs": [
        {
          "output_type": "execute_result",
          "data": {
            "text/plain": [
              "int"
            ]
          },
          "metadata": {},
          "execution_count": 95
        }
      ]
    },
    {
      "cell_type": "code",
      "source": [
        "w= \" Mary is kind. \"\n",
        "w.strip()\n"
      ],
      "metadata": {
        "colab": {
          "base_uri": "https://localhost:8080/",
          "height": 36
        },
        "id": "SxBGyPzE5vP0",
        "outputId": "4c478efe-b5af-4aaf-8957-a6d6bd9f7111"
      },
      "execution_count": 104,
      "outputs": [
        {
          "output_type": "execute_result",
          "data": {
            "text/plain": [
              "'Mary is kind.'"
            ],
            "application/vnd.google.colaboratory.intrinsic+json": {
              "type": "string"
            }
          },
          "metadata": {},
          "execution_count": 104
        }
      ]
    },
    {
      "cell_type": "code",
      "source": [
        "w= \" Mary is kind. \"\n",
        "w1=w.split()\n",
        "print(w1)"
      ],
      "metadata": {
        "colab": {
          "base_uri": "https://localhost:8080/"
        },
        "id": "Hm_EpvER6xOK",
        "outputId": "f30fd5d4-17a2-4929-9541-e97b4ba00c3f"
      },
      "execution_count": 105,
      "outputs": [
        {
          "output_type": "stream",
          "name": "stdout",
          "text": [
            "['Mary', 'is', 'kind.']\n"
          ]
        }
      ]
    },
    {
      "cell_type": "code",
      "source": [
        "w2=\"out-of-date\"\n",
        "w3=w2.split('-')\n",
        "print(w3)"
      ],
      "metadata": {
        "colab": {
          "base_uri": "https://localhost:8080/"
        },
        "id": "aS8ShVe46_cj",
        "outputId": "43b05784-cd7e-4715-d21a-ac5d8b31093d"
      },
      "execution_count": 108,
      "outputs": [
        {
          "output_type": "stream",
          "name": "stdout",
          "text": [
            "['out', 'of', 'date']\n"
          ]
        }
      ]
    },
    {
      "cell_type": "code",
      "source": [
        "' '.join(w)\n",
        "'-'.join(w)\n",
        "w1.lower()\n",
        "w1.upper()\n",
        "\n"
      ],
      "metadata": {
        "id": "uIK47_c77QyB"
      },
      "execution_count": null,
      "outputs": []
    },
    {
      "cell_type": "code",
      "source": [
        "n=\"shy\"\n",
        "len(n)\n",
        "n[2]"
      ],
      "metadata": {
        "colab": {
          "base_uri": "https://localhost:8080/",
          "height": 36
        },
        "id": "coQl6FlV71JG",
        "outputId": "695f2de7-36a4-494c-d3a8-1dab7e1cfe70"
      },
      "execution_count": 111,
      "outputs": [
        {
          "output_type": "execute_result",
          "data": {
            "text/plain": [
              "'y'"
            ],
            "application/vnd.google.colaboratory.intrinsic+json": {
              "type": "string"
            }
          },
          "metadata": {},
          "execution_count": 111
        }
      ]
    },
    {
      "cell_type": "markdown",
      "source": [
        "0부터 숫자 시작/ [0:]영부터 다\n",
        "[:] 싹다 \n",
        "[1:3] 1번부터 2번까지 \n"
      ],
      "metadata": {
        "id": "nrevzXre8A3l"
      }
    },
    {
      "cell_type": "code",
      "source": [
        "n=\"name\"\n",
        "n[1:3]"
      ],
      "metadata": {
        "colab": {
          "base_uri": "https://localhost:8080/",
          "height": 36
        },
        "id": "h2PLHMsU8WJ9",
        "outputId": "6c331edf-f6be-4250-d310-3dc27355395b"
      },
      "execution_count": 112,
      "outputs": [
        {
          "output_type": "execute_result",
          "data": {
            "text/plain": [
              "'am'"
            ],
            "application/vnd.google.colaboratory.intrinsic+json": {
              "type": "string"
            }
          },
          "metadata": {},
          "execution_count": 112
        }
      ]
    },
    {
      "cell_type": "code",
      "source": [
        "w=\"MARY\"\n",
        "ini=w[0].upper()\n",
        "y=w[1:].lower()\n",
        "print(ini+y)\n"
      ],
      "metadata": {
        "colab": {
          "base_uri": "https://localhost:8080/"
        },
        "id": "aOV4vm3j8fv4",
        "outputId": "b69e9a85-cf06-464b-ddf0-85544bb4a2a0"
      },
      "execution_count": 114,
      "outputs": [
        {
          "output_type": "stream",
          "name": "stdout",
          "text": [
            "Mary\n"
          ]
        }
      ]
    },
    {
      "cell_type": "code",
      "source": [
        "numbers=[1, 2, 3, 4, 5]\n",
        "for a in numbers:\n",
        "    print(a**2)"
      ],
      "metadata": {
        "colab": {
          "base_uri": "https://localhost:8080/"
        },
        "id": "hGRGmNZc-oby",
        "outputId": "cb580278-5869-44e9-f095-b2db5e250ecc"
      },
      "execution_count": 121,
      "outputs": [
        {
          "output_type": "stream",
          "name": "stdout",
          "text": [
            "1\n",
            "4\n",
            "9\n",
            "16\n",
            "25\n"
          ]
        }
      ]
    },
    {
      "cell_type": "code",
      "source": [
        "number=[1, 2, 3, 4, 5]\n",
        "squared=[]\n",
        "for n in number:\n",
        "  s=n**2\n",
        "  squared.append(s)\n",
        "  \n",
        "print(squared)"
      ],
      "metadata": {
        "colab": {
          "base_uri": "https://localhost:8080/"
        },
        "id": "o99iPBBl-_dB",
        "outputId": "7b7e6d5e-29d6-484a-8fa6-9c52c4801ed3"
      },
      "execution_count": 124,
      "outputs": [
        {
          "output_type": "stream",
          "name": "stdout",
          "text": [
            "[1, 4, 9, 16, 25]\n"
          ]
        }
      ]
    },
    {
      "cell_type": "code",
      "source": [
        "num_names = input(\"How many names? \")\n",
        "num_names = int(num_names)\n",
        "\n",
        "attendance = []\n",
        "\n",
        "for i in range(0, num_names):\n",
        "  name = input()\n",
        "  attendance.append(name)\n",
        "\n",
        "print(attendance)"
      ],
      "metadata": {
        "colab": {
          "base_uri": "https://localhost:8080/"
        },
        "id": "x4sxcesgAEKA",
        "outputId": "6fdf13f5-3396-4600-cab4-df2ce2e35a02"
      },
      "execution_count": 125,
      "outputs": [
        {
          "output_type": "stream",
          "name": "stdout",
          "text": [
            "How many names? 2\n",
            "rk\n",
            "sk\n",
            "['rk', 'sk']\n"
          ]
        }
      ]
    }
  ]
}