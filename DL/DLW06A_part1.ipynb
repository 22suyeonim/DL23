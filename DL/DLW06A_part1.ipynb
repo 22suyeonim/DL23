{
  "nbformat": 4,
  "nbformat_minor": 0,
  "metadata": {
    "colab": {
      "provenance": [],
      "include_colab_link": true
    },
    "kernelspec": {
      "name": "python3",
      "display_name": "Python 3"
    },
    "language_info": {
      "name": "python"
    }
  },
  "cells": [
    {
      "cell_type": "markdown",
      "metadata": {
        "id": "view-in-github",
        "colab_type": "text"
      },
      "source": [
        "<a href=\"https://colab.research.google.com/github/22suyeonim/DL23/blob/main/DL/DLW06A_part1.ipynb\" target=\"_parent\"><img src=\"https://colab.research.google.com/assets/colab-badge.svg\" alt=\"Open In Colab\"/></a>"
      ]
    },
    {
      "cell_type": "markdown",
      "source": [
        "# 🌀**DLW06A Part I (4/12)** Coding and Language games"
      ],
      "metadata": {
        "id": "_mbT_YJKGkm-"
      }
    },
    {
      "cell_type": "markdown",
      "source": [
        "# 💕 Goal: Creating an app similar to **_Word Guessing Game from Hints_**\n",
        "\n",
        "We will be spending 2 weeks to get this go."
      ],
      "metadata": {
        "id": "ppmHMRdisMiv"
      }
    },
    {
      "cell_type": "markdown",
      "source": [
        "##💦 **Demo 1: Making a word quiz.**"
      ],
      "metadata": {
        "id": "MWpQZGE5wZgt"
      }
    },
    {
      "cell_type": "code",
      "source": [
        "#@markdown Run this code to see guesiong game\n",
        "import random\n",
        "\n",
        "# Define a dictionary of words and their hints\n",
        "word_hints = {\n",
        "    \"suprasegmental\": [\n",
        "        \"This term is related to the features of speech that go beyond individual sounds.\",\n",
        "        \"It is often associated with intonation, stress, and timing.\",\n",
        "        \"Examples include pitch, tone, and stress patterns.\",\n",
        "        \"The answer begins with 's'.\"\n",
        "    ],\n",
        "    \"geminate\": [\n",
        "        \"This term is related to a specific type of consonant.\",\n",
        "        \"It refers to a consonant that is pronounced for a longer duration than its regular counterpart.\",\n",
        "        \"In some languages, it can be represented by doubling the consonant in writing.\",\n",
        "        \"The answer begins with 'g'.\"\n",
        "    ],\n",
        "    \"syllable\": [\n",
        "        \"This term is related to a unit of speech.\",\n",
        "        \"It is a sequence of speech sounds, typically consisting of a vowel and any surrounding consonants.\",\n",
        "        \"A word can have one or multiple of these units.\",\n",
        "        \"The answer begins with 's'.\"\n",
        "    ]\n",
        "}\n",
        "\n",
        "# Define guessing game\n",
        "\n",
        "def guessing_game(word_hints):\n",
        "    words = list(word_hints.keys())\n",
        "    random.shuffle(words)\n",
        "\n",
        "    for word in words:\n",
        "        print(\"\\nGuess the word based on the following hints:\")\n",
        "        hints = word_hints[word]\n",
        "        attempts = 0\n",
        "\n",
        "        while attempts < len(hints):\n",
        "            print(f\"Hint {attempts + 1}: {hints[attempts]}\")\n",
        "            guess = input(\"Your guess: \").strip().lower()\n",
        "\n",
        "            if guess == word.lower():\n",
        "                print(\"Congratulations! You guessed the correct word!\\n\")\n",
        "                break\n",
        "            else:\n",
        "                print(\"Incorrect. Try again with another hint.\\n\")\n",
        "                attempts += 1\n",
        "\n",
        "        if attempts == len(hints):\n",
        "            print(f\"Sorry, you've run out of hints. The correct word was: {word}\\n\")\n",
        "\n",
        "# Using this conditional structure is a common practice in Python to allow a script to be both executed as a standalone program and imported as a module in other scripts without immediately running the code within the script.\n",
        "if __name__ == \"__main__\":\n",
        "  guessing_game(word_hints)"
      ],
      "metadata": {
        "cellView": "form",
        "id": "68fDLUnZs8KF",
        "colab": {
          "base_uri": "https://localhost:8080/"
        },
        "outputId": "4c6ddd9b-b8b6-4555-bbbc-ed31453167e1"
      },
      "execution_count": 4,
      "outputs": [
        {
          "output_type": "stream",
          "name": "stdout",
          "text": [
            "\n",
            "Guess the word based on the following hints:\n",
            "Hint 1: This term is related to a unit of speech.\n",
            "Your guess: \n",
            "Your guess: \n",
            "Incorrect. Try again with another hint.\n",
            "\n",
            "Hint 2: It is a sequence of speech sounds, typically consisting of a vowel and any surrounding consonants.\n",
            "Incorrect. Try again with another hint.\n",
            "\n",
            "Hint 3: A word can have one or multiple of these units.\n",
            "Your guess: \n",
            "Incorrect. Try again with another hint.\n",
            "\n",
            "Hint 4: The answer begins with 's'.\n",
            "Your guess: \n",
            "Incorrect. Try again with another hint.\n",
            "\n",
            "Sorry, you've run out of hints. The correct word was: syllable\n",
            "\n",
            "\n",
            "Guess the word based on the following hints:\n",
            "Hint 1: This term is related to the features of speech that go beyond individual sounds.\n",
            "Your guess: \n",
            "Incorrect. Try again with another hint.\n",
            "\n",
            "Hint 2: It is often associated with intonation, stress, and timing.\n",
            "Your guess: \n",
            "Incorrect. Try again with another hint.\n",
            "\n",
            "Hint 3: Examples include pitch, tone, and stress patterns.\n",
            "Your guess: \n",
            "Incorrect. Try again with another hint.\n",
            "\n",
            "Hint 4: The answer begins with 's'.\n",
            "Your guess: \n",
            "Incorrect. Try again with another hint.\n",
            "\n",
            "Sorry, you've run out of hints. The correct word was: suprasegmental\n",
            "\n",
            "\n",
            "Guess the word based on the following hints:\n",
            "Hint 1: This term is related to a specific type of consonant.\n",
            "Your guess: \n",
            "Incorrect. Try again with another hint.\n",
            "\n",
            "Hint 2: It refers to a consonant that is pronounced for a longer duration than its regular counterpart.\n",
            "Your guess: \n",
            "Incorrect. Try again with another hint.\n",
            "\n",
            "Hint 3: In some languages, it can be represented by doubling the consonant in writing.\n",
            "Your guess: \n",
            "Incorrect. Try again with another hint.\n",
            "\n",
            "Hint 4: The answer begins with 'g'.\n",
            "Your guess: \n",
            "Incorrect. Try again with another hint.\n",
            "\n",
            "Sorry, you've run out of hints. The correct word was: geminate\n",
            "\n"
          ]
        }
      ]
    },
    {
      "cell_type": "markdown",
      "source": [
        "##💦**Demo 2: Convert a statement to a yes-no question**"
      ],
      "metadata": {
        "id": "DKwjeU8pW-iu"
      }
    },
    {
      "cell_type": "code",
      "source": [
        "#@markdown Install and import libraries\n",
        "%%capture\n",
        "!pip install gtts\n",
        "!pip install IPython\n",
        "from gtts import gTTS\n",
        "from IPython.display import Audio, display\n",
        "\n",
        "#@markdown etts(), ktts()\n",
        "def etts(text):\n",
        "  text_to_say = text\n",
        "\n",
        "  gtts_object = gTTS(text = text_to_say,\n",
        "                     lang = \"en\",\n",
        "                    slow = False)\n",
        "  \n",
        "  gtts_object.save(\"E-audio.mp3\")\n",
        "  return Audio(\"E-audio.mp3\")\n",
        "\n",
        "def ktts(text):\n",
        "  text_to_say = text\n",
        "\n",
        "  gtts_object = gTTS(text = text_to_say,\n",
        "                     lang = \"ko\",\n",
        "                    slow = False)\n",
        "  \n",
        "  gtts_object.save(\"K-audio.mp3\")\n",
        "  return Audio(\"K-audio.mp3\")"
      ],
      "metadata": {
        "cellView": "form",
        "id": "TajMEehr8_7D"
      },
      "execution_count": 5,
      "outputs": []
    },
    {
      "cell_type": "markdown",
      "source": [
        "---\n",
        "### Complete version with some restriction \n",
        "\n",
        "1. The statement you're entering must contain a be-verb.\n",
        "2. If you use a proper noun as a subject, restrict it to one of the followings: \n",
        "\n",
        "> **Male: Tom, Thomas, Bill**\n",
        "\n",
        "> **Female: Mary, Jane, Jessica**\n",
        "\n",
        "2. Must contain a punctuation(.)\n",
        "---"
      ],
      "metadata": {
        "id": "5XYJaX2IDrOu"
      }
    },
    {
      "cell_type": "code",
      "source": [
        "#@markdown Statment to a Yes-No question (Audio autoplay)\n",
        "sentence = input(\"Type a sentence containing a be verb: e.g., I am a students.\\n\")\n",
        "beverbs = [\"is\", \"was\", \"are\", \"were\"]\n",
        "pronouns = [\"I\",\"You\",\"He\",\"She\",\"They\",\"It\"]\n",
        "names = [\"Mary\", \"Jane\", \"Tom\",\"Thomas\",\"Jessica\", \"Bill\"]\n",
        "\n",
        "def check_word(list_A, list_B):\n",
        "    for a in list_A:\n",
        "        for b in list_B:\n",
        "            if b in a:\n",
        "                mword = a\n",
        "                return True, mword\n",
        "    return False, None\n",
        "\n",
        "\n",
        "cat1 = sentence.split()\n",
        "\n",
        "result = check_word(cat1,beverbs)\n",
        "\n",
        "if result[0] == True:\n",
        "  if cat1[0] in pronouns:\n",
        "      b = result[1]\n",
        "      be = \" \"+b+\" \"\n",
        "      ss = sentence.split(be)\n",
        "      subj = ss[0]\n",
        "      nsubj = subj[0].lower()+subj[1:]\n",
        "      pred = ss[1]\n",
        "      w1 = b[0].upper() + b[1:] # Capitalized be verb\n",
        "      newsent = w1 + \" \" + nsubj + \" \" + pred[:-1] + \"?\"\n",
        "      mytext = \"I'll make it to a yes-no question: \" + newsent\n",
        "      print(\"Yes-no question: \", newsent)\n",
        "  elif cat1[0] not in pronouns and cat1[0] in names:\n",
        "        b = result[1]\n",
        "        be = \" \"+b+\" \"\n",
        "        ss = sentence.split(be)\n",
        "        subj = ss[0]\n",
        "        pred = ss[1]\n",
        "        w1 = b[0].upper() + b[1:] # Capitalized be verb\n",
        "        newsent = w1 + \" \" + subj + \" \" + pred[:-1] + \"?\"\n",
        "        mytext = \"I'll make it to a yes-no question: \" + newsent\n",
        "        print(\"Yes-no question: \", newsent)\n",
        "  elif cat1[0] not in pronouns and cat1[0] not in names:\n",
        "        b = result[1]\n",
        "        be = \" \"+b+\" \"\n",
        "        ss = sentence.split(be)\n",
        "        subj = ss[0]\n",
        "        nsubj = subj[0].lower()+subj[1:]\n",
        "        pred = ss[1]\n",
        "        w1 = b[0].upper() + b[1:] # Capitalized be verb\n",
        "        newsent = w1 + \" \" + nsubj + \" \" + pred[:-1] + \"?\"\n",
        "        mytext = \"I'll make it to a yes-no question: \" + newsent\n",
        "        print(\"Yes-no question: \", newsent)\n",
        "\n",
        "else:\n",
        "    mytext = \"The sentence you\\' provided does not contain a 'Be' verb. Try again.\"\n",
        "    print(\"Type a sentence that contains a be verb.\")\n",
        "\n",
        "etts(mytext)\n",
        "Audio(\"E-audio.mp3\",autoplay=True)"
      ],
      "metadata": {
        "cellView": "form",
        "id": "ZjPSWFub-55P",
        "colab": {
          "base_uri": "https://localhost:8080/",
          "height": 129
        },
        "outputId": "87882247-3794-4f78-8223-d67de71bfd7a"
      },
      "execution_count": 7,
      "outputs": [
        {
          "output_type": "stream",
          "name": "stdout",
          "text": [
            "Type a sentence containing a be verb: e.g., I am a students.\n",
            "I am a students\n",
            "Type a sentence that contains a be verb.\n"
          ]
        },
        {
          "output_type": "execute_result",
          "data": {
            "text/plain": [
              "<IPython.lib.display.Audio object>"
            ],
            "text/html": [
              "\n",
              "                <audio  controls=\"controls\" autoplay=\"autoplay\">\n",
              "                    <source src=\"data:audio/mpeg;base64,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\" type=\"audio/mpeg\" />\n",
              "                    Your browser does not support the audio element.\n",
              "                </audio>\n",
              "              "
            ]
          },
          "metadata": {},
          "execution_count": 7
        }
      ]
    },
    {
      "cell_type": "markdown",
      "source": [
        "## 💦**Demo 3: Story game**"
      ],
      "metadata": {
        "id": "UG0_f0gJQl1r"
      }
    },
    {
      "cell_type": "code",
      "source": [
        "#@markdown Adventure game with reading\n",
        "print(\"Welcome to the adventure game!\")\n",
        "print(\"=\"*50)\n",
        "print(\"You are a high school student who has been chosen to embark on a quest to save your town from a mysterious curse.\")\n",
        "print(\"You will face various challenges and choices along the way, and your decisions will determine the outcome of the story.\")\n",
        "print(\"=\"*50)\n",
        "name = input(\"What is your name? \")\n",
        "print(\"=\"*50)\n",
        "print(f\"Nice to meet you, {name}! Are you ready to begin?\")\n",
        "print(\"=\"*50)\n",
        "# Start of the story\n",
        "print(\"You wake up one morning to find that your town is covered in a thick fog.\")\n",
        "print(\"People are starting to get sick, and strange things are happening.\")\n",
        "print(\"You decide to investigate and find out that a curse has been cast upon the town.\")\n",
        "print(\"You meet a wise old sage who tells you that the only way to lift the curse is to find a magical artifact that is hidden in a dangerous dungeon.\")\n",
        "print(\"=\"*50)\n",
        "# First choice\n",
        "print(\"You have two options:\")\n",
        "print(\"Option 1: Search for clues in the town.\")\n",
        "print(\"Option 2: Go straight to the dungeon.\")\n",
        "print(\"=\"*50)\n",
        "choice = input(\"Which option do you choose? (1 or 2) \")\n",
        "print(\"=\"*50)\n",
        "if choice == \"1\":\n",
        "    print(\"You spend the day talking to townspeople and searching for clues.\")\n",
        "    print(\"You find a cryptic message that leads you to a hidden cave.\")\n",
        "elif choice == \"2\":\n",
        "    print(\"You journey to the dungeon and face many dangers along the way.\")\n",
        "    print(\"You eventually reach the entrance to the dungeon.\")\n",
        "print(\"=\"*50)\n",
        "# Second choice\n",
        "print(\"You have two options:\")\n",
        "print(\"Option 1: Enter the cave.\")\n",
        "print(\"Option 2: Enter the dungeon.\")\n",
        "print(\"=\"*50)\n",
        "choice = input(\"Which option do you choose? (1 or 2) \")\n",
        "print(\"=\"*50)\n",
        "if choice == \"1\":\n",
        "    print(\"=\"*50)\n",
        "    print(\"You enter the cave and find the magical artifact!\")\n",
        "    print(\"You bring it back to the town and the curse is lifted.\")\n",
        "    print(\"Congratulations! You have saved the town!\")\n",
        "    print(\"=\"*50)\n",
        "elif choice == \"2\":\n",
        "    print(\"=\"*50)\n",
        "    print(\"You enter the dungeon and face many challenges.\")\n",
        "    print(\"You eventually find the magical artifact, but it is guarded by a powerful monster.\")\n",
        "    print(\"You must defeat the monster to retrieve the artifact.\")\n",
        "    print(\"You engage in a fierce battle!\")\n",
        "    print(\"You lost the battle and the curse remains.\")\n",
        "    print(\"Brave You! Though the curse remains, people appreicate your effort.\")\n",
        "    print(\"=\"*50)\n"
      ],
      "metadata": {
        "cellView": "form",
        "id": "qBAUNW9qP75J",
        "colab": {
          "base_uri": "https://localhost:8080/"
        },
        "outputId": "c03f040d-8b0c-4a2a-a268-1ce50ad222f8"
      },
      "execution_count": 9,
      "outputs": [
        {
          "output_type": "stream",
          "name": "stdout",
          "text": [
            "Welcome to the adventure game!\n",
            "==================================================\n",
            "You are a high school student who has been chosen to embark on a quest to save your town from a mysterious curse.\n",
            "You will face various challenges and choices along the way, and your decisions will determine the outcome of the story.\n",
            "==================================================\n",
            "What is your name? sueyon\n",
            "==================================================\n",
            "Nice to meet you, sueyon! Are you ready to begin?\n",
            "==================================================\n",
            "You wake up one morning to find that your town is covered in a thick fog.\n",
            "People are starting to get sick, and strange things are happening.\n",
            "You decide to investigate and find out that a curse has been cast upon the town.\n",
            "You meet a wise old sage who tells you that the only way to lift the curse is to find a magical artifact that is hidden in a dangerous dungeon.\n",
            "==================================================\n",
            "You have two options:\n",
            "Option 1: Search for clues in the town.\n",
            "Option 2: Go straight to the dungeon.\n",
            "==================================================\n",
            "Which option do you choose? (1 or 2) 1\n",
            "==================================================\n",
            "You spend the day talking to townspeople and searching for clues.\n",
            "You find a cryptic message that leads you to a hidden cave.\n",
            "==================================================\n",
            "You have two options:\n",
            "Option 1: Enter the cave.\n",
            "Option 2: Enter the dungeon.\n",
            "==================================================\n",
            "Which option do you choose? (1 or 2) 1\n",
            "==================================================\n",
            "==================================================\n",
            "You enter the cave and find the magical artifact!\n",
            "You bring it back to the town and the curse is lifted.\n",
            "Congratulations! You have saved the town!\n",
            "==================================================\n"
          ]
        }
      ]
    },
    {
      "cell_type": "code",
      "source": [
        "#@markdown Story game with listening (audio)\n",
        "from gtts import gTTS\n",
        "import IPython.display as ipd\n",
        "\n",
        "def play_audio(text):\n",
        "    language = 'en'\n",
        "    audio = gTTS(text=text, lang=language, slow=False)\n",
        "    audio.save(\"audio.mp3\")\n",
        "    ipd.display(ipd.Audio(\"audio.mp3\", autoplay=True))\n",
        "\n",
        "# Introduction\n",
        "play_audio(\"Welcome to the story game. You are walking home from school when you hear footsteps behind you. You look back and see a shady figure in the distance. What do you do?\")\n",
        "ipd.clear_output(wait=True)\n",
        "input(\"Press Enter to continue...\")\n",
        "\n",
        "# Stage 1\n",
        "play_audio(\"You decide to run. Do you run towards the park or towards the busy street?\")\n",
        "ipd.clear_output(wait=True)\n",
        "choice = input(\"Enter 1 to run towards the park, or 2 to run towards the busy street: \")\n",
        "if choice == \"1\":\n",
        "    play_audio(\"You run towards the park and manage to lose the shady figure. You continue walking home and make it back safely.\")\n",
        "elif choice == \"2\":\n",
        "    play_audio(\"You run towards the busy street, hoping to find someone to help you. As you get closer, you realize that the figure is a police officer. You stop and explain what happened, and the officer escorts you home safely.\")\n",
        "ipd.clear_output(wait=True)\n",
        "input(\"Press Enter to continue...\")\n",
        "\n",
        "# Stage 2\n",
        "play_audio(\"You arrive home and find that your front door is slightly open. Do you go inside or call the police?\")\n",
        "ipd.clear_output(wait=True)\n",
        "choice = input(\"Enter 1 to go inside, or 2 to call the police: \")\n",
        "if choice == \"1\":\n",
        "    play_audio(\"You cautiously enter your home and find that everything is as you left it. You breathe a sigh of relief and go about your evening.\")\n",
        "elif choice == \"2\":\n",
        "    play_audio(\"You call the police and they arrive shortly after. They search your home and find no one inside. You spend the night at a friend's house and return home the next day.\")\n",
        "ipd.clear_output(wait=True)\n",
        "input(\"Press Enter to continue...\")\n",
        "\n",
        "# Conclusion\n",
        "play_audio(\"Good choice! you have successfully made it home safely. Thanks for playing!\")\n",
        "ipd.clear_output(wait=True)\n"
      ],
      "metadata": {
        "cellView": "form",
        "id": "mx_BDEl-TqLe",
        "colab": {
          "base_uri": "https://localhost:8080/",
          "height": 93
        },
        "outputId": "822382aa-fa50-4b47-f077-756cf74afa97"
      },
      "execution_count": 10,
      "outputs": [
        {
          "name": "stdout",
          "output_type": "stream",
          "text": [
            "Press Enter to continue...1\n"
          ]
        },
        {
          "output_type": "display_data",
          "data": {
            "text/plain": [
              "<IPython.lib.display.Audio object>"
            ],
            "text/html": [
              "\n",
              "                <audio  controls=\"controls\" autoplay=\"autoplay\">\n",
              "                    <source src=\"data:audio/mpeg;base64,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\" type=\"audio/mpeg\" />\n",
              "                    Your browser does not support the audio element.\n",
              "                </audio>\n",
              "              "
            ]
          },
          "metadata": {}
        }
      ]
    },
    {
      "cell_type": "markdown",
      "source": [
        "---\n",
        "# 📙Concepts and elements to cover for our goal:\n",
        "\n",
        "0. Importing modules: Explain how to import a module (like random) and use its functions (like random.shuffle()).\n",
        "\n",
        "1. Python basics: Basic data types (strings, integers, lists, dictionaries), variables, and basic input/output functions (like print() and input()).\n",
        "\n",
        "2. String manipulation: Cover string methods like .strip() and .lower().\n",
        "3. Control structures: Introduce for loops, while loops, and conditional statements (if, elif, else).\n",
        "\n",
        "4. Functions: Explain how to define and use functions, including function parameters. \n",
        "\n",
        "5. F-strings: Introduce f-strings (formatted string literals) and how to embed expressions inside string literals using curly braces {}.\n",
        "---"
      ],
      "metadata": {
        "id": "2VMRdKbJwOsk"
      }
    },
    {
      "cell_type": "markdown",
      "source": [
        "# [0] Importing modules\n",
        "\n",
        "1. **function, (class), module, package, and library**\n",
        "\n",
        "> (class) > functions\n",
        "\n",
        "\n",
        "2. Let's use the analogy of a toolbox: \n",
        "\n",
        "+ **a module** is a single tool, (e.g., random) \n",
        "+ **a package** is a toolbox containing multiple tools (e.g., gTTS)\n",
        "+ **a library** is a set of toolboxes designed for a specific purpose. (e.g., nltk - Natural Language Tool Kit) _>> Next time_"
      ],
      "metadata": {
        "id": "wgZEzhkQwzc3"
      }
    },
    {
      "cell_type": "markdown",
      "source": [
        "##A. 'gTTS' package"
      ],
      "metadata": {
        "id": "298wKG9q7-rN"
      }
    },
    {
      "cell_type": "code",
      "source": [
        "!pip install gtts #까는거 \n",
        "!pip install IPython \n",
        "from gtts import gTTS\n",
        "from IPython.display import Audio, display # 불러오는 방법 이렇게 생김"
      ],
      "metadata": {
        "id": "YLCRqNbW8E9J",
        "colab": {
          "base_uri": "https://localhost:8080/"
        },
        "outputId": "a6fef592-b512-4a91-e7d3-a20f13ffc52d"
      },
      "execution_count": 11,
      "outputs": [
        {
          "output_type": "stream",
          "name": "stdout",
          "text": [
            "Looking in indexes: https://pypi.org/simple, https://us-python.pkg.dev/colab-wheels/public/simple/\n",
            "Requirement already satisfied: gtts in /usr/local/lib/python3.9/dist-packages (2.3.1)\n",
            "Requirement already satisfied: click<8.2,>=7.1 in /usr/local/lib/python3.9/dist-packages (from gtts) (8.1.3)\n",
            "Requirement already satisfied: requests<3,>=2.27 in /usr/local/lib/python3.9/dist-packages (from gtts) (2.27.1)\n",
            "Requirement already satisfied: idna<4,>=2.5 in /usr/local/lib/python3.9/dist-packages (from requests<3,>=2.27->gtts) (3.4)\n",
            "Requirement already satisfied: charset-normalizer~=2.0.0 in /usr/local/lib/python3.9/dist-packages (from requests<3,>=2.27->gtts) (2.0.12)\n",
            "Requirement already satisfied: urllib3<1.27,>=1.21.1 in /usr/local/lib/python3.9/dist-packages (from requests<3,>=2.27->gtts) (1.26.15)\n",
            "Requirement already satisfied: certifi>=2017.4.17 in /usr/local/lib/python3.9/dist-packages (from requests<3,>=2.27->gtts) (2022.12.7)\n",
            "Looking in indexes: https://pypi.org/simple, https://us-python.pkg.dev/colab-wheels/public/simple/\n",
            "Requirement already satisfied: IPython in /usr/local/lib/python3.9/dist-packages (7.34.0)\n",
            "Requirement already satisfied: matplotlib-inline in /usr/local/lib/python3.9/dist-packages (from IPython) (0.1.6)\n",
            "Requirement already satisfied: decorator in /usr/local/lib/python3.9/dist-packages (from IPython) (4.4.2)\n",
            "Requirement already satisfied: pickleshare in /usr/local/lib/python3.9/dist-packages (from IPython) (0.7.5)\n",
            "Collecting jedi>=0.16\n",
            "  Downloading jedi-0.18.2-py2.py3-none-any.whl (1.6 MB)\n",
            "\u001b[2K     \u001b[90m━━━━━━━━━━━━━━━━━━━━━━━━━━━━━━━━━━━━━━━━\u001b[0m \u001b[32m1.6/1.6 MB\u001b[0m \u001b[31m30.4 MB/s\u001b[0m eta \u001b[36m0:00:00\u001b[0m\n",
            "\u001b[?25hRequirement already satisfied: prompt-toolkit!=3.0.0,!=3.0.1,<3.1.0,>=2.0.0 in /usr/local/lib/python3.9/dist-packages (from IPython) (3.0.38)\n",
            "Requirement already satisfied: backcall in /usr/local/lib/python3.9/dist-packages (from IPython) (0.2.0)\n",
            "Requirement already satisfied: pexpect>4.3 in /usr/local/lib/python3.9/dist-packages (from IPython) (4.8.0)\n",
            "Requirement already satisfied: pygments in /usr/local/lib/python3.9/dist-packages (from IPython) (2.14.0)\n",
            "Requirement already satisfied: traitlets>=4.2 in /usr/local/lib/python3.9/dist-packages (from IPython) (5.7.1)\n",
            "Requirement already satisfied: setuptools>=18.5 in /usr/local/lib/python3.9/dist-packages (from IPython) (67.6.1)\n",
            "Requirement already satisfied: parso<0.9.0,>=0.8.0 in /usr/local/lib/python3.9/dist-packages (from jedi>=0.16->IPython) (0.8.3)\n",
            "Requirement already satisfied: ptyprocess>=0.5 in /usr/local/lib/python3.9/dist-packages (from pexpect>4.3->IPython) (0.7.0)\n",
            "Requirement already satisfied: wcwidth in /usr/local/lib/python3.9/dist-packages (from prompt-toolkit!=3.0.0,!=3.0.1,<3.1.0,>=2.0.0->IPython) (0.2.6)\n",
            "Installing collected packages: jedi\n",
            "Successfully installed jedi-0.18.2\n"
          ]
        }
      ]
    },
    {
      "cell_type": "code",
      "source": [
        "#@markdown etts(), ktts()\n",
        "def etts(text):\n",
        "  text_to_say = text\n",
        "\n",
        "  gtts_object = gTTS(text = text_to_say,\n",
        "                     lang = \"en\",\n",
        "                    slow = False)\n",
        "  \n",
        "  gtts_object.save(\"E-audio.mp3\")\n",
        "  return Audio(\"E-audio.mp3\")\n",
        "\n",
        "def ktts(text):\n",
        "  text_to_say = text\n",
        "\n",
        "  gtts_object = gTTS(text = text_to_say,\n",
        "                     lang = \"ko\",\n",
        "                    slow = False)\n",
        "  \n",
        "  gtts_object.save(\"K-audio.mp3\")\n",
        "  return Audio(\"K-audio.mp3\")"
      ],
      "metadata": {
        "cellView": "form",
        "id": "bYDfENzGRUFb"
      },
      "execution_count": 12,
      "outputs": []
    },
    {
      "cell_type": "markdown",
      "source": [
        "## B. 'random' module\n",
        "\n",
        "[Random Picker App using 'random'](https://github.com/MK316/Spring2023/blob/main/RandomPickerS23.ipynb)"
      ],
      "metadata": {
        "id": "vSFe_Umb68o9"
      }
    },
    {
      "cell_type": "code",
      "source": [
        "import random"
      ],
      "metadata": {
        "id": "t8tYICF_1Yx8"
      },
      "execution_count": null,
      "outputs": []
    },
    {
      "cell_type": "markdown",
      "source": [
        "Return a number between 3 and 9 (both included):"
      ],
      "metadata": {
        "id": "RlWQ5dXark-r"
      }
    },
    {
      "cell_type": "code",
      "source": [
        "random.randint(1, 10) #random.randint(x,y)는 함수이므로 문법대로 사용해야 함. # 암기x"
      ],
      "metadata": {
        "colab": {
          "base_uri": "https://localhost:8080/"
        },
        "id": "sMf1Ow7W11EZ",
        "outputId": "6c6b838f-939b-4f0b-9da9-a7301fdaa7a0"
      },
      "execution_count": null,
      "outputs": [
        {
          "output_type": "execute_result",
          "data": {
            "text/plain": [
              "5"
            ]
          },
          "metadata": {},
          "execution_count": 17
        }
      ]
    },
    {
      "cell_type": "code",
      "source": [
        "a1 = random.randint(1, 10)\n",
        "a1*10  #변수를 이용하면 결과값을 이용한 다른 연산이나 작업이 가능하다."
      ],
      "metadata": {
        "colab": {
          "base_uri": "https://localhost:8080/"
        },
        "id": "WUVN9-Rs825s",
        "outputId": "6e83869d-df61-428b-b91a-64db35bb7089"
      },
      "execution_count": null,
      "outputs": [
        {
          "output_type": "execute_result",
          "data": {
            "text/plain": [
              "10"
            ]
          },
          "metadata": {},
          "execution_count": 18
        }
      ]
    },
    {
      "cell_type": "markdown",
      "source": [
        "# [1] Python basics: \n",
        "\n",
        "+ Basic data types (strings, integers, lists, dictionaries), \n",
        "+ variables, \n",
        "+ basic input/output functions (like print() and input()).\n",
        "\n"
      ],
      "metadata": {
        "id": "_vTm-kXl8qa_"
      }
    },
    {
      "cell_type": "markdown",
      "source": [
        "## [1-1] Basic data types"
      ],
      "metadata": {
        "id": "qaQ0_hkoENRX"
      }
    },
    {
      "cell_type": "markdown",
      "source": [
        "\n",
        "\n",
        "```\n",
        "# 코드로 형식 지정됨\n",
        "```\n",
        "\n",
        "### A. strings"
      ],
      "metadata": {
        "id": "HB86s1k990Hh"
      }
    },
    {
      "cell_type": "code",
      "source": [
        "a2 = \"Welcome\"\n",
        "a3 = \"2023\""
      ],
      "metadata": {
        "id": "L_OImwSL94Kr"
      },
      "execution_count": 15,
      "outputs": []
    },
    {
      "cell_type": "markdown",
      "source": [
        "☺️ DIY: How to get \"Welcome, 2023!\""
      ],
      "metadata": {
        "id": "wkYUBwu1-IvG"
      }
    },
    {
      "cell_type": "code",
      "source": [
        "a2 + \",\" + a3 + \"!\""
      ],
      "metadata": {
        "id": "XZ2LHJcl9_u4",
        "outputId": "fde69a0e-d083-462c-9360-5913ba00814d",
        "colab": {
          "base_uri": "https://localhost:8080/",
          "height": 35
        }
      },
      "execution_count": 16,
      "outputs": [
        {
          "output_type": "execute_result",
          "data": {
            "text/plain": [
              "'Welcome,2023!'"
            ],
            "application/vnd.google.colaboratory.intrinsic+json": {
              "type": "string"
            }
          },
          "metadata": {},
          "execution_count": 16
        }
      ]
    },
    {
      "cell_type": "markdown",
      "source": [
        "☺️ DIY: Let a4 = \"화이팅\", and get '화이팅화이팅화이팅화이팅화이팅화이팅화이팅화이팅화이팅화이팅'(10번)"
      ],
      "metadata": {
        "id": "WNaHBznU-yEd"
      }
    },
    {
      "cell_type": "code",
      "source": [
        "a4 = \"화이팅\"\n",
        "a4*10"
      ],
      "metadata": {
        "id": "0vfPcih3-xg4",
        "outputId": "510fbebe-0ac0-4acb-ac02-e5b292696ba7",
        "colab": {
          "base_uri": "https://localhost:8080/",
          "height": 35
        }
      },
      "execution_count": 25,
      "outputs": [
        {
          "output_type": "execute_result",
          "data": {
            "text/plain": [
              "'화이팅화이팅화이팅화이팅화이팅화이팅화이팅화이팅화이팅화이팅'"
            ],
            "application/vnd.google.colaboratory.intrinsic+json": {
              "type": "string"
            }
          },
          "metadata": {},
          "execution_count": 25
        }
      ]
    },
    {
      "cell_type": "code",
      "source": [
        "type(a2) # data type of the variable a2"
      ],
      "metadata": {
        "colab": {
          "base_uri": "https://localhost:8080/"
        },
        "id": "1XroWNyGADZU",
        "outputId": "b42bc9f5-7c1e-4202-f508-418514fa9e39"
      },
      "execution_count": 20,
      "outputs": [
        {
          "output_type": "execute_result",
          "data": {
            "text/plain": [
              "str"
            ]
          },
          "metadata": {},
          "execution_count": 20
        }
      ]
    },
    {
      "cell_type": "markdown",
      "source": [
        "###B. Integers, float"
      ],
      "metadata": {
        "id": "kpNXrqZ2_9I2"
      }
    },
    {
      "cell_type": "code",
      "source": [
        "x1 = 45; y1 = 0.5\n",
        "x1 * y1"
      ],
      "metadata": {
        "colab": {
          "base_uri": "https://localhost:8080/"
        },
        "id": "CEs2BHNbAB1Q",
        "outputId": "6982ddf3-b3e9-4c2e-e8a1-89db019b0378"
      },
      "execution_count": 21,
      "outputs": [
        {
          "output_type": "execute_result",
          "data": {
            "text/plain": [
              "22.5"
            ]
          },
          "metadata": {},
          "execution_count": 21
        }
      ]
    },
    {
      "cell_type": "code",
      "source": [
        "type(x1*y1)"
      ],
      "metadata": {
        "id": "2WarI3IQsRJX",
        "outputId": "1a2f9577-e440-4052-a86b-56e6d4cbbc9f",
        "colab": {
          "base_uri": "https://localhost:8080/"
        }
      },
      "execution_count": 22,
      "outputs": [
        {
          "output_type": "execute_result",
          "data": {
            "text/plain": [
              "float"
            ]
          },
          "metadata": {},
          "execution_count": 22
        }
      ]
    },
    {
      "cell_type": "markdown",
      "source": [
        "### C. List datatype"
      ],
      "metadata": {
        "id": "S7PJcJFkBO46"
      }
    },
    {
      "cell_type": "code",
      "source": [
        "x2 = [1,2,3]\n",
        "x2"
      ],
      "metadata": {
        "colab": {
          "base_uri": "https://localhost:8080/"
        },
        "id": "LjSEH6lABR98",
        "outputId": "a7a42efd-aa08-4b87-8927-44c05c00761e"
      },
      "execution_count": 23,
      "outputs": [
        {
          "output_type": "execute_result",
          "data": {
            "text/plain": [
              "[1, 2, 3]"
            ]
          },
          "metadata": {},
          "execution_count": 23
        }
      ]
    },
    {
      "cell_type": "markdown",
      "source": [
        "x2[index]: Python index starts from 0"
      ],
      "metadata": {
        "id": "xcPyj0Fesdiu"
      }
    },
    {
      "cell_type": "code",
      "source": [
        "x2[0]"
      ],
      "metadata": {
        "id": "VGWl1av6BYGu",
        "colab": {
          "base_uri": "https://localhost:8080/"
        },
        "outputId": "ea955112-117e-455f-f94e-f1c831618935"
      },
      "execution_count": 26,
      "outputs": [
        {
          "output_type": "execute_result",
          "data": {
            "text/plain": [
              "1"
            ]
          },
          "metadata": {},
          "execution_count": 26
        }
      ]
    },
    {
      "cell_type": "code",
      "source": [
        "# range(x,y)\n",
        "x3 = range(1,10)\n",
        "list(x3)  #list(), range(1,10)"
      ],
      "metadata": {
        "colab": {
          "base_uri": "https://localhost:8080/"
        },
        "id": "WNmjoCQ1ANr4",
        "outputId": "76a016af-1161-4389-c451-c291dae02b93"
      },
      "execution_count": 27,
      "outputs": [
        {
          "output_type": "execute_result",
          "data": {
            "text/plain": [
              "[1, 2, 3, 4, 5, 6, 7, 8, 9]"
            ]
          },
          "metadata": {},
          "execution_count": 27
        }
      ]
    },
    {
      "cell_type": "markdown",
      "source": [
        "range- 다 보여줘라, 왼쪽은 들어가고 오른쪽은 안들어감\n",
        "list- 리스트로 만들어라라"
      ],
      "metadata": {
        "id": "T9EeFzFaVzWF"
      }
    },
    {
      "cell_type": "code",
      "source": [
        "x4 = \"John\"\n",
        "list(x4)"
      ],
      "metadata": {
        "colab": {
          "base_uri": "https://localhost:8080/"
        },
        "id": "amRP-ytuBlO6",
        "outputId": "afd2179b-fc75-4370-aa93-ad684ef7be1e"
      },
      "execution_count": 28,
      "outputs": [
        {
          "output_type": "execute_result",
          "data": {
            "text/plain": [
              "['J', 'o', 'h', 'n']"
            ]
          },
          "metadata": {},
          "execution_count": 28
        }
      ]
    },
    {
      "cell_type": "code",
      "source": [
        "fruit = [\"banana\", \"apple\", \"orange\"]\n",
        "fruit[2]"
      ],
      "metadata": {
        "colab": {
          "base_uri": "https://localhost:8080/",
          "height": 35
        },
        "id": "N52FGL1DWHyb",
        "outputId": "674ec347-4b2a-41dc-f9db-e014df89a765"
      },
      "execution_count": 32,
      "outputs": [
        {
          "output_type": "execute_result",
          "data": {
            "text/plain": [
              "'orange'"
            ],
            "application/vnd.google.colaboratory.intrinsic+json": {
              "type": "string"
            }
          },
          "metadata": {},
          "execution_count": 32
        }
      ]
    },
    {
      "cell_type": "markdown",
      "source": [
        "###D. Dictionary datatype: {'key':'value'}\n",
        "\n",
        "In Python, a dictionary is a built-in data type that represents a collection of key-value pairs. Each key-value pair in a dictionary is separated by a colon (:), and each pair is separated by a comma. "
      ],
      "metadata": {
        "id": "ZoyOSN_QCCdO"
      }
    },
    {
      "cell_type": "code",
      "source": [
        "mydict = {\"API\":\"Application Programming Interface\", \"GPT\":\"Generative Pretrained Transformer\"}\n",
        "mydict['GPT']"
      ],
      "metadata": {
        "colab": {
          "base_uri": "https://localhost:8080/",
          "height": 35
        },
        "id": "PdRkfL3JBMWK",
        "outputId": "7f13a524-1c5d-478b-8708-982fe749a286"
      },
      "execution_count": 34,
      "outputs": [
        {
          "output_type": "execute_result",
          "data": {
            "text/plain": [
              "'Generative Pretrained Transformer'"
            ],
            "application/vnd.google.colaboratory.intrinsic+json": {
              "type": "string"
            }
          },
          "metadata": {},
          "execution_count": 34
        }
      ]
    },
    {
      "cell_type": "markdown",
      "source": [
        "{ 딕셔너리 데이터 타입입"
      ],
      "metadata": {
        "id": "2r2OSx8HW6ZE"
      }
    },
    {
      "cell_type": "code",
      "source": [
        "mydict['GPT']"
      ],
      "metadata": {
        "id": "muVfPouBs47b",
        "outputId": "fc3c348a-81d8-4c14-ca88-143b8be33227",
        "colab": {
          "base_uri": "https://localhost:8080/",
          "height": 35
        }
      },
      "execution_count": 35,
      "outputs": [
        {
          "output_type": "execute_result",
          "data": {
            "text/plain": [
              "'Generative Pretrained Transformer'"
            ],
            "application/vnd.google.colaboratory.intrinsic+json": {
              "type": "string"
            }
          },
          "metadata": {},
          "execution_count": 35
        }
      ]
    },
    {
      "cell_type": "code",
      "source": [
        "cs = {\"Class A\": 25, \"Class B\": 30, \"Class C\": 32}\n",
        "cs['Class C']"
      ],
      "metadata": {
        "colab": {
          "base_uri": "https://localhost:8080/"
        },
        "id": "WBs-NrEJDQRC",
        "outputId": "f6df23ee-a1c1-48c6-ada9-8bdac6ed3bfe"
      },
      "execution_count": 36,
      "outputs": [
        {
          "output_type": "execute_result",
          "data": {
            "text/plain": [
              "32"
            ]
          },
          "metadata": {},
          "execution_count": 36
        }
      ]
    },
    {
      "cell_type": "markdown",
      "source": [
        "cs= class size"
      ],
      "metadata": {
        "id": "vDC39vpdX0XT"
      }
    },
    {
      "cell_type": "code",
      "source": [
        "print(\"the size of the class is: \",cs['Class C'])"
      ],
      "metadata": {
        "colab": {
          "base_uri": "https://localhost:8080/"
        },
        "id": "iyhVwP8SX2Dj",
        "outputId": "9fbf39a5-4ef6-45ab-a6ce-bd79b83bac7a"
      },
      "execution_count": 37,
      "outputs": [
        {
          "output_type": "stream",
          "name": "stdout",
          "text": [
            "the size of the class is:  32\n"
          ]
        }
      ]
    },
    {
      "cell_type": "code",
      "source": [
        "print(\"the size of the class is: \",cs['Class B'])"
      ],
      "metadata": {
        "colab": {
          "base_uri": "https://localhost:8080/"
        },
        "id": "KBnan1oDYUAM",
        "outputId": "89bdc902-1e12-414e-a47d-983e4d6ce07a"
      },
      "execution_count": 39,
      "outputs": [
        {
          "output_type": "stream",
          "name": "stdout",
          "text": [
            "the size of the class is:  30\n"
          ]
        }
      ]
    },
    {
      "cell_type": "markdown",
      "source": [
        "## [1-2] Variables"
      ],
      "metadata": {
        "id": "0m_ux_SoEUos"
      }
    },
    {
      "cell_type": "markdown",
      "source": [
        "## [1-3] input/output functions"
      ],
      "metadata": {
        "id": "YUasz63dEYAX"
      }
    },
    {
      "cell_type": "code",
      "source": [
        "mynumber = 2\n",
        "mynumber"
      ],
      "metadata": {
        "colab": {
          "base_uri": "https://localhost:8080/"
        },
        "id": "BSp7TWkeEfmz",
        "outputId": "8326e67e-c4d7-4ca3-8d48-dfdf40477284"
      },
      "execution_count": 40,
      "outputs": [
        {
          "output_type": "execute_result",
          "data": {
            "text/plain": [
              "2"
            ]
          },
          "metadata": {},
          "execution_count": 40
        }
      ]
    },
    {
      "cell_type": "markdown",
      "source": [],
      "metadata": {
        "id": "VQvV0g7sYraE"
      }
    },
    {
      "cell_type": "code",
      "source": [
        "yournumber = input()  # In Python, input() is a built-in function that allows you to get user input from the keyboard. \n",
        "yournumber"
      ],
      "metadata": {
        "colab": {
          "base_uri": "https://localhost:8080/",
          "height": 54
        },
        "id": "6LZudH_0En_w",
        "outputId": "d55c25b3-b52a-41c8-c38f-04db0df75d75"
      },
      "execution_count": 43,
      "outputs": [
        {
          "name": "stdout",
          "output_type": "stream",
          "text": [
            "2345\n"
          ]
        },
        {
          "output_type": "execute_result",
          "data": {
            "text/plain": [
              "'2345'"
            ],
            "application/vnd.google.colaboratory.intrinsic+json": {
              "type": "string"
            }
          },
          "metadata": {},
          "execution_count": 43
        }
      ]
    },
    {
      "cell_type": "markdown",
      "source": [
        "☺️ After running the code below, can you tell what the resulting output means?"
      ],
      "metadata": {
        "id": "-Z1mQqzlH4k5"
      }
    },
    {
      "cell_type": "code",
      "source": [
        "yournumber*5"
      ],
      "metadata": {
        "colab": {
          "base_uri": "https://localhost:8080/",
          "height": 35
        },
        "id": "5cGgSs3qHxG_",
        "outputId": "08662e91-e59c-4370-a021-7f64927628bf"
      },
      "execution_count": 44,
      "outputs": [
        {
          "output_type": "execute_result",
          "data": {
            "text/plain": [
              "'23452345234523452345'"
            ],
            "application/vnd.google.colaboratory.intrinsic+json": {
              "type": "string"
            }
          },
          "metadata": {},
          "execution_count": 44
        }
      ]
    },
    {
      "cell_type": "markdown",
      "source": [
        "INPUT함수는 값을 넣어주면 STRING으로 받아들임 그래서 *5를 하면 다섯번 나열함\n",
        "\n",
        "\n",
        "---\n",
        "\n"
      ],
      "metadata": {
        "id": "XeWlm5MSZNEK"
      }
    },
    {
      "cell_type": "code",
      "source": [
        "type(yournumber)"
      ],
      "metadata": {
        "id": "664rKEalISSY"
      },
      "execution_count": null,
      "outputs": []
    },
    {
      "cell_type": "code",
      "source": [
        "yournumber = int(yournumber) # changing the type of the value to integer\n",
        "type(yournumber)"
      ],
      "metadata": {
        "colab": {
          "base_uri": "https://localhost:8080/"
        },
        "id": "u_ocEyoAIVC4",
        "outputId": "7109274b-07c2-4aa5-f854-2faa8dde9859"
      },
      "execution_count": 45,
      "outputs": [
        {
          "output_type": "execute_result",
          "data": {
            "text/plain": [
              "int"
            ]
          },
          "metadata": {},
          "execution_count": 45
        }
      ]
    },
    {
      "cell_type": "code",
      "source": [
        "yournumber*5"
      ],
      "metadata": {
        "colab": {
          "base_uri": "https://localhost:8080/"
        },
        "id": "IRVQQP_fZeuq",
        "outputId": "9712fa5c-8058-465c-ec35-419e4b9d03e2"
      },
      "execution_count": 46,
      "outputs": [
        {
          "output_type": "execute_result",
          "data": {
            "text/plain": [
              "11725"
            ]
          },
          "metadata": {},
          "execution_count": 46
        }
      ]
    },
    {
      "cell_type": "markdown",
      "source": [
        "Getting output:"
      ],
      "metadata": {
        "id": "Z9Kzd8ZW7Bri"
      }
    },
    {
      "cell_type": "code",
      "source": [
        "# print() 함수 배우기\n",
        "print(\"대한민국\")\n",
        "\n",
        "a2 = \"화이팅!\"  # a1: variable(변수)\n",
        "print(a2)\n",
        "print(a2*10)\n",
        "print(\"화이팅 10번 합시다: \", a2*10)\n",
        "a2"
      ],
      "metadata": {
        "id": "aQXDo7u-4-18",
        "outputId": "11358eca-5be4-41b8-8bbe-7070b130158a",
        "colab": {
          "base_uri": "https://localhost:8080/",
          "height": 109
        }
      },
      "execution_count": 47,
      "outputs": [
        {
          "output_type": "stream",
          "name": "stdout",
          "text": [
            "대한민국\n",
            "화이팅!\n",
            "화이팅!화이팅!화이팅!화이팅!화이팅!화이팅!화이팅!화이팅!화이팅!화이팅!\n",
            "화이팅 10번 합시다:  화이팅!화이팅!화이팅!화이팅!화이팅!화이팅!화이팅!화이팅!화이팅!화이팅!\n"
          ]
        },
        {
          "output_type": "execute_result",
          "data": {
            "text/plain": [
              "'화이팅!'"
            ],
            "application/vnd.google.colaboratory.intrinsic+json": {
              "type": "string"
            }
          },
          "metadata": {},
          "execution_count": 47
        }
      ]
    },
    {
      "cell_type": "code",
      "source": [
        "print(a2)\n",
        "print(\"=\"*30)\n",
        "a1=random.randint(1,10)\n",
        "print(\"Random integer between 1 and 10:\", a1)"
      ],
      "metadata": {
        "colab": {
          "base_uri": "https://localhost:8080/"
        },
        "id": "0jdQu65F2ZWw",
        "outputId": "f9d6fc2e-aec4-41f6-f2c9-d9be48de9b05"
      },
      "execution_count": 50,
      "outputs": [
        {
          "output_type": "stream",
          "name": "stdout",
          "text": [
            "화이팅!\n",
            "==============================\n",
            "Random integer between 1 and 10: 4\n"
          ]
        }
      ]
    },
    {
      "cell_type": "markdown",
      "source": [
        "☺️DIY: \n",
        "**Q: John and Mary have been together for many days. Ask Mary how many days it has been since she met John. Then you tell Mary how many hours it has been since she met John.**\n",
        "\n",
        "1. Set the variable 'day' to 24\n",
        "2. Set the variable 'num_day' for the input from the user. Get a number (number of days) from the user using input() function\n",
        "2. Calculate days to hours: set the variable 'hours' to the final result."
      ],
      "metadata": {
        "id": "cvkWAvetFtSP"
      }
    },
    {
      "cell_type": "code",
      "source": [
        "day = input()\n",
        "num_day = int(day)\n",
        "hours = 24\n",
        "print(\"The total hours passed since Mary met John are: \", hours*num_day, \"hours.\")"
      ],
      "metadata": {
        "id": "Fdezo9WD1zju",
        "outputId": "17a66ceb-4776-4852-fbba-0819d3f72fbc",
        "colab": {
          "base_uri": "https://localhost:8080/"
        }
      },
      "execution_count": 54,
      "outputs": [
        {
          "output_type": "stream",
          "name": "stdout",
          "text": [
            "135\n",
            "The total hours passed since Mary met John are:  3240 hours.\n"
          ]
        }
      ]
    },
    {
      "cell_type": "markdown",
      "source": [
        "input으로 받아들이는건 string day=string"
      ],
      "metadata": {
        "id": "qPcoZqjGasdy"
      }
    },
    {
      "cell_type": "markdown",
      "source": [
        "#[2] String manipulation: strip() and .lower().\n",
        "\n"
      ],
      "metadata": {
        "id": "zzkVAfU61HDk"
      }
    },
    {
      "cell_type": "markdown",
      "source": [
        "### **data.strip()**\n",
        "\n",
        "+ In Python, strip() is a built-in string method that returns a copy of the string with leading and trailing characters removed. \n",
        "+ By default, strip() removes whitespace characters such as spaces, tabs, and newlines from the beginning and end of the string."
      ],
      "metadata": {
        "id": "sSi_PvE5LTeC"
      }
    },
    {
      "cell_type": "code",
      "source": [
        "w1 = \" Mary is friendly. \"\n",
        "w1"
      ],
      "metadata": {
        "colab": {
          "base_uri": "https://localhost:8080/",
          "height": 35
        },
        "id": "IUtU-qG81XIt",
        "outputId": "e220311b-615a-4482-fcf3-989e2bcf0a26"
      },
      "execution_count": null,
      "outputs": [
        {
          "output_type": "execute_result",
          "data": {
            "text/plain": [
              "' Mary is friendly. '"
            ],
            "application/vnd.google.colaboratory.intrinsic+json": {
              "type": "string"
            }
          },
          "metadata": {},
          "execution_count": 46
        }
      ]
    },
    {
      "cell_type": "code",
      "source": [
        "w1.strip()"
      ],
      "metadata": {
        "colab": {
          "base_uri": "https://localhost:8080/",
          "height": 35
        },
        "id": "ZAhdPbqVKr6e",
        "outputId": "cd233fa9-fd66-4f89-da29-02e5f8e8ddf7"
      },
      "execution_count": null,
      "outputs": [
        {
          "output_type": "execute_result",
          "data": {
            "text/plain": [
              "'Mary is friendly.'"
            ],
            "application/vnd.google.colaboratory.intrinsic+json": {
              "type": "string"
            }
          },
          "metadata": {},
          "execution_count": 47
        }
      ]
    },
    {
      "cell_type": "markdown",
      "source": [
        "### **data.split()**"
      ],
      "metadata": {
        "id": "JGPdtmu8MFgv"
      }
    },
    {
      "cell_type": "code",
      "source": [
        "w1 = \"Mary is friendly.\"\n",
        "w1.split()"
      ],
      "metadata": {
        "colab": {
          "base_uri": "https://localhost:8080/"
        },
        "id": "xbF1sJB9MIpw",
        "outputId": "b9175d5c-0146-44ee-a8dc-9e11d71cdbd9"
      },
      "execution_count": null,
      "outputs": [
        {
          "output_type": "execute_result",
          "data": {
            "text/plain": [
              "['Mary', 'is', 'friendly.']"
            ]
          },
          "metadata": {},
          "execution_count": 48
        }
      ]
    },
    {
      "cell_type": "code",
      "source": [
        "w2 = \"out-of-date\"\n",
        "w2.split('-')"
      ],
      "metadata": {
        "colab": {
          "base_uri": "https://localhost:8080/"
        },
        "id": "IudKgTjkMVQP",
        "outputId": "fffcbccf-0217-466c-bcc2-d35131bd60c7"
      },
      "execution_count": null,
      "outputs": [
        {
          "output_type": "execute_result",
          "data": {
            "text/plain": [
              "['out', 'of', 'date']"
            ]
          },
          "metadata": {},
          "execution_count": 49
        }
      ]
    },
    {
      "cell_type": "code",
      "source": [
        "w1 = \"Mary\"\n",
        "w2 = \"is\"\n",
        "w3 = \"friendly\""
      ],
      "metadata": {
        "id": "tGBOKKKtLvj7"
      },
      "execution_count": null,
      "outputs": []
    },
    {
      "cell_type": "code",
      "source": [
        "wordlist = [w1, w2, w3]\n",
        "wordlist"
      ],
      "metadata": {
        "colab": {
          "base_uri": "https://localhost:8080/"
        },
        "id": "c11AXGr0V_a4",
        "outputId": "f5a0b40c-c834-4888-c9fa-b243ac79243e"
      },
      "execution_count": null,
      "outputs": [
        {
          "output_type": "execute_result",
          "data": {
            "text/plain": [
              "['Mary', 'is', 'friendly']"
            ]
          },
          "metadata": {},
          "execution_count": 51
        }
      ]
    },
    {
      "cell_type": "markdown",
      "source": [
        "### **' '.join()**"
      ],
      "metadata": {
        "id": "Mb-LFWWPWn08"
      }
    },
    {
      "cell_type": "code",
      "source": [
        "' '.join(wordlist)"
      ],
      "metadata": {
        "colab": {
          "base_uri": "https://localhost:8080/",
          "height": 35
        },
        "id": "tZA7DsPPWGmA",
        "outputId": "90221f13-9bd2-40de-da6a-de32c074fb58"
      },
      "execution_count": null,
      "outputs": [
        {
          "output_type": "execute_result",
          "data": {
            "text/plain": [
              "'Mary is friendly'"
            ],
            "application/vnd.google.colaboratory.intrinsic+json": {
              "type": "string"
            }
          },
          "metadata": {},
          "execution_count": 52
        }
      ]
    },
    {
      "cell_type": "code",
      "source": [
        "'-'.join(wordlist)"
      ],
      "metadata": {
        "colab": {
          "base_uri": "https://localhost:8080/",
          "height": 35
        },
        "id": "EjLtWSL5WdYy",
        "outputId": "4ce99690-92b2-4ac7-b8c2-ee45569c21fe"
      },
      "execution_count": null,
      "outputs": [
        {
          "output_type": "execute_result",
          "data": {
            "text/plain": [
              "'Mary-is-friendly'"
            ],
            "application/vnd.google.colaboratory.intrinsic+json": {
              "type": "string"
            }
          },
          "metadata": {},
          "execution_count": 53
        }
      ]
    },
    {
      "cell_type": "markdown",
      "source": [
        "### **data.lower(), data.upper()**"
      ],
      "metadata": {
        "id": "PgCIMbbcL29X"
      }
    },
    {
      "cell_type": "code",
      "source": [
        "w1.lower()"
      ],
      "metadata": {
        "colab": {
          "base_uri": "https://localhost:8080/",
          "height": 35
        },
        "id": "JGqTVM22MuH0",
        "outputId": "118e59a5-ab1a-4271-98b6-5e38fd509488"
      },
      "execution_count": null,
      "outputs": [
        {
          "output_type": "execute_result",
          "data": {
            "text/plain": [
              "'mary'"
            ],
            "application/vnd.google.colaboratory.intrinsic+json": {
              "type": "string"
            }
          },
          "metadata": {},
          "execution_count": 54
        }
      ]
    },
    {
      "cell_type": "code",
      "source": [
        "w1.upper()"
      ],
      "metadata": {
        "colab": {
          "base_uri": "https://localhost:8080/",
          "height": 35
        },
        "id": "fP2lBss3Myhq",
        "outputId": "7b93479c-d868-4f9d-d120-456ed03398a4"
      },
      "execution_count": null,
      "outputs": [
        {
          "output_type": "execute_result",
          "data": {
            "text/plain": [
              "'MARY'"
            ],
            "application/vnd.google.colaboratory.intrinsic+json": {
              "type": "string"
            }
          },
          "metadata": {},
          "execution_count": 55
        }
      ]
    },
    {
      "cell_type": "markdown",
      "source": [
        "string index"
      ],
      "metadata": {
        "id": "yZJk2NtCM_oz"
      }
    },
    {
      "cell_type": "code",
      "source": [
        "len(w1) #number of string"
      ],
      "metadata": {
        "colab": {
          "base_uri": "https://localhost:8080/"
        },
        "id": "HmuiXLZSNGNa",
        "outputId": "a04863f4-d425-4cca-ae44-b0b8506c2910"
      },
      "execution_count": null,
      "outputs": [
        {
          "output_type": "execute_result",
          "data": {
            "text/plain": [
              "4"
            ]
          },
          "metadata": {},
          "execution_count": 56
        }
      ]
    },
    {
      "cell_type": "code",
      "source": [
        "w1[0] #1st string"
      ],
      "metadata": {
        "colab": {
          "base_uri": "https://localhost:8080/",
          "height": 35
        },
        "id": "xiyozLYxM6xk",
        "outputId": "b87c69f9-889e-4473-b142-33ef06d35790"
      },
      "execution_count": null,
      "outputs": [
        {
          "output_type": "execute_result",
          "data": {
            "text/plain": [
              "'M'"
            ],
            "application/vnd.google.colaboratory.intrinsic+json": {
              "type": "string"
            }
          },
          "metadata": {},
          "execution_count": 57
        }
      ]
    },
    {
      "cell_type": "code",
      "source": [
        "w1[-1]"
      ],
      "metadata": {
        "colab": {
          "base_uri": "https://localhost:8080/",
          "height": 35
        },
        "id": "AY_Ii7FhNeof",
        "outputId": "4cda0399-33ee-42f3-bf12-9f6aa11cd329"
      },
      "execution_count": null,
      "outputs": [
        {
          "output_type": "execute_result",
          "data": {
            "text/plain": [
              "'y'"
            ],
            "application/vnd.google.colaboratory.intrinsic+json": {
              "type": "string"
            }
          },
          "metadata": {},
          "execution_count": 58
        }
      ]
    },
    {
      "cell_type": "code",
      "source": [
        "w1[0:]"
      ],
      "metadata": {
        "id": "vhfF3iXwNijx"
      },
      "execution_count": null,
      "outputs": []
    },
    {
      "cell_type": "code",
      "source": [
        "w1[:]"
      ],
      "metadata": {
        "id": "pW4m0FoyNlf4"
      },
      "execution_count": null,
      "outputs": []
    },
    {
      "cell_type": "code",
      "source": [
        "w1[1:3]"
      ],
      "metadata": {
        "id": "tgp9ozDdNpwd"
      },
      "execution_count": null,
      "outputs": []
    },
    {
      "cell_type": "code",
      "source": [
        "w = \"mary\"\n",
        "w[0:-1]"
      ],
      "metadata": {
        "id": "0Su3TuHfPxwh"
      },
      "execution_count": null,
      "outputs": []
    },
    {
      "cell_type": "markdown",
      "source": [
        "☺️ DIY: Convert a statement to a yes-no question (e.g., Mary is smart. Tom is smiling. Jane is late.)"
      ],
      "metadata": {
        "id": "lGVkVdCLNMz0"
      }
    },
    {
      "cell_type": "code",
      "source": [
        "w1 = \"Mary\"; w2 = \"is\"; w3 = \"friendly.\""
      ],
      "metadata": {
        "id": "nz1VNUviNXaJ"
      },
      "execution_count": null,
      "outputs": []
    }
  ]
}