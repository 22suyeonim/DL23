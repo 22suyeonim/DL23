{
  "nbformat": 4,
  "nbformat_minor": 0,
  "metadata": {
    "colab": {
      "provenance": [],
      "include_colab_link": true
    },
    "kernelspec": {
      "name": "python3",
      "display_name": "Python 3"
    },
    "language_info": {
      "name": "python"
    }
  },
  "cells": [
    {
      "cell_type": "markdown",
      "metadata": {
        "id": "view-in-github",
        "colab_type": "text"
      },
      "source": [
        "<a href=\"https://colab.research.google.com/github/22suyeonim/DL23/blob/main/DL/DLW06A_part1.ipynb\" target=\"_parent\"><img src=\"https://colab.research.google.com/assets/colab-badge.svg\" alt=\"Open In Colab\"/></a>"
      ]
    },
    {
      "cell_type": "markdown",
      "source": [
        "# 🌀**DLW06A Part I (4/12)** Coding and Language games"
      ],
      "metadata": {
        "id": "_mbT_YJKGkm-"
      }
    },
    {
      "cell_type": "markdown",
      "source": [
        "# 💕 Goal: Creating an app similar to **_Word Guessing Game from Hints_**\n",
        "\n",
        "We will be spending 2 weeks to get this go."
      ],
      "metadata": {
        "id": "ppmHMRdisMiv"
      }
    },
    {
      "cell_type": "markdown",
      "source": [
        "##💦 **Demo 1: Making a word quiz.**"
      ],
      "metadata": {
        "id": "MWpQZGE5wZgt"
      }
    },
    {
      "cell_type": "code",
      "source": [
        "#@markdown Run this code to see guesiong game\n",
        "import random\n",
        "\n",
        "# Define a dictionary of words and their hints\n",
        "word_hints = {\n",
        "    \"suprasegmental\": [\n",
        "        \"This term is related to the features of speech that go beyond individual sounds.\",\n",
        "        \"It is often associated with intonation, stress, and timing.\",\n",
        "        \"Examples include pitch, tone, and stress patterns.\",\n",
        "        \"The answer begins with 's'.\"\n",
        "    ],\n",
        "    \"geminate\": [\n",
        "        \"This term is related to a specific type of consonant.\",\n",
        "        \"It refers to a consonant that is pronounced for a longer duration than its regular counterpart.\",\n",
        "        \"In some languages, it can be represented by doubling the consonant in writing.\",\n",
        "        \"The answer begins with 'g'.\"\n",
        "    ],\n",
        "    \"syllable\": [\n",
        "        \"This term is related to a unit of speech.\",\n",
        "        \"It is a sequence of speech sounds, typically consisting of a vowel and any surrounding consonants.\",\n",
        "        \"A word can have one or multiple of these units.\",\n",
        "        \"The answer begins with 's'.\"\n",
        "    ]\n",
        "}\n",
        "\n",
        "# Define guessing game\n",
        "\n",
        "def guessing_game(word_hints):\n",
        "    words = list(word_hints.keys())\n",
        "    random.shuffle(words)\n",
        "\n",
        "    for word in words:\n",
        "        print(\"\\nGuess the word based on the following hints:\")\n",
        "        hints = word_hints[word]\n",
        "        attempts = 0\n",
        "\n",
        "        while attempts < len(hints):\n",
        "            print(f\"Hint {attempts + 1}: {hints[attempts]}\")\n",
        "            guess = input(\"Your guess: \").strip().lower()\n",
        "\n",
        "            if guess == word.lower():\n",
        "                print(\"Congratulations! You guessed the correct word!\\n\")\n",
        "                break\n",
        "            else:\n",
        "                print(\"Incorrect. Try again with another hint.\\n\")\n",
        "                attempts += 1\n",
        "\n",
        "        if attempts == len(hints):\n",
        "            print(f\"Sorry, you've run out of hints. The correct word was: {word}\\n\")\n",
        "\n",
        "# Using this conditional structure is a common practice in Python to allow a script to be both executed as a standalone program and imported as a module in other scripts without immediately running the code within the script.\n",
        "if __name__ == \"__main__\":\n",
        "  guessing_game(word_hints)"
      ],
      "metadata": {
        "cellView": "form",
        "id": "68fDLUnZs8KF",
        "outputId": "b724aa49-a3a0-410d-9b4d-3566f581a722",
        "colab": {
          "base_uri": "https://localhost:8080/"
        }
      },
      "execution_count": 1,
      "outputs": [
        {
          "output_type": "stream",
          "name": "stdout",
          "text": [
            "\n",
            "Guess the word based on the following hints:\n",
            "Hint 1: This term is related to the features of speech that go beyond individual sounds.\n",
            "Your guess: \n",
            "Incorrect. Try again with another hint.\n",
            "\n",
            "Hint 2: It is often associated with intonation, stress, and timing.\n",
            "Your guess: \n",
            "Incorrect. Try again with another hint.\n",
            "\n",
            "Hint 3: Examples include pitch, tone, and stress patterns.\n",
            "Your guess: \n",
            "Incorrect. Try again with another hint.\n",
            "\n",
            "Hint 4: The answer begins with 's'.\n",
            "Your guess: \n",
            "Incorrect. Try again with another hint.\n",
            "\n",
            "Sorry, you've run out of hints. The correct word was: suprasegmental\n",
            "\n",
            "\n",
            "Guess the word based on the following hints:\n",
            "Hint 1: This term is related to a specific type of consonant.\n",
            "Your guess: \n",
            "Incorrect. Try again with another hint.\n",
            "\n",
            "Hint 2: It refers to a consonant that is pronounced for a longer duration than its regular counterpart.\n",
            "Your guess: geminate\n",
            "Congratulations! You guessed the correct word!\n",
            "\n",
            "\n",
            "Guess the word based on the following hints:\n",
            "Hint 1: This term is related to a unit of speech.\n",
            "Your guess: \n",
            "Incorrect. Try again with another hint.\n",
            "\n",
            "Hint 2: It is a sequence of speech sounds, typically consisting of a vowel and any surrounding consonants.\n",
            "Your guess: \n",
            "Incorrect. Try again with another hint.\n",
            "\n",
            "Hint 3: A word can have one or multiple of these units.\n",
            "Your guess: \n",
            "Incorrect. Try again with another hint.\n",
            "\n",
            "Hint 4: The answer begins with 's'.\n",
            "Your guess: \n",
            "Incorrect. Try again with another hint.\n",
            "\n",
            "Sorry, you've run out of hints. The correct word was: syllable\n",
            "\n"
          ]
        }
      ]
    },
    {
      "cell_type": "markdown",
      "source": [
        "##💦**Demo 2: Convert a statement to a yes-no question**"
      ],
      "metadata": {
        "id": "DKwjeU8pW-iu"
      }
    },
    {
      "cell_type": "code",
      "source": [
        "#@markdown Install and import libraries\n",
        "%%capture\n",
        "!pip install gtts\n",
        "!pip install IPython\n",
        "from gtts import gTTS\n",
        "from IPython.display import Audio, display\n",
        "\n",
        "#@markdown etts(), ktts()\n",
        "def etts(text):\n",
        "  text_to_say = text\n",
        "\n",
        "  gtts_object = gTTS(text = text_to_say,\n",
        "                     lang = \"en\",\n",
        "                    slow = False)\n",
        "  \n",
        "  gtts_object.save(\"E-audio.mp3\")\n",
        "  return Audio(\"E-audio.mp3\")\n",
        "\n",
        "def ktts(text):\n",
        "  text_to_say = text\n",
        "\n",
        "  gtts_object = gTTS(text = text_to_say,\n",
        "                     lang = \"ko\",\n",
        "                    slow = False)\n",
        "  \n",
        "  gtts_object.save(\"K-audio.mp3\")\n",
        "  return Audio(\"K-audio.mp3\")"
      ],
      "metadata": {
        "cellView": "form",
        "id": "TajMEehr8_7D"
      },
      "execution_count": 2,
      "outputs": []
    },
    {
      "cell_type": "markdown",
      "source": [
        "---\n",
        "### Complete version with some restriction \n",
        "\n",
        "1. The statement you're entering must contain a be-verb.\n",
        "2. If you use a proper noun as a subject, restrict it to one of the followings: \n",
        "\n",
        "> **Male: Tom, Thomas, Bill**\n",
        "\n",
        "> **Female: Mary, Jane, Jessica**\n",
        "\n",
        "2. Must contain a punctuation(.)\n",
        "---"
      ],
      "metadata": {
        "id": "5XYJaX2IDrOu"
      }
    },
    {
      "cell_type": "code",
      "source": [
        "#@markdown Statment to a Yes-No question (Audio autoplay)\n",
        "sentence = input(\"Type a sentence containing a be verb: e.g., I am a students.\\n\")\n",
        "beverbs = [\"is\", \"was\", \"are\", \"were\"]\n",
        "pronouns = [\"I\",\"You\",\"He\",\"She\",\"They\",\"It\"]\n",
        "names = [\"Mary\", \"Jane\", \"Tom\",\"Thomas\",\"Jessica\", \"Bill\"]\n",
        "\n",
        "def check_word(list_A, list_B):\n",
        "    for a in list_A:\n",
        "        for b in list_B:\n",
        "            if b in a:\n",
        "                mword = a\n",
        "                return True, mword\n",
        "    return False, None\n",
        "\n",
        "\n",
        "cat1 = sentence.split()\n",
        "\n",
        "result = check_word(cat1,beverbs)\n",
        "\n",
        "if result[0] == True:\n",
        "  if cat1[0] in pronouns:\n",
        "      b = result[1]\n",
        "      be = \" \"+b+\" \"\n",
        "      ss = sentence.split(be)\n",
        "      subj = ss[0]\n",
        "      nsubj = subj[0].lower()+subj[1:]\n",
        "      pred = ss[1]\n",
        "      w1 = b[0].upper() + b[1:] # Capitalized be verb\n",
        "      newsent = w1 + \" \" + nsubj + \" \" + pred[:-1] + \"?\"\n",
        "      mytext = \"I'll make it to a yes-no question: \" + newsent\n",
        "      print(\"Yes-no question: \", newsent)\n",
        "  elif cat1[0] not in pronouns and cat1[0] in names:\n",
        "        b = result[1]\n",
        "        be = \" \"+b+\" \"\n",
        "        ss = sentence.split(be)\n",
        "        subj = ss[0]\n",
        "        pred = ss[1]\n",
        "        w1 = b[0].upper() + b[1:] # Capitalized be verb\n",
        "        newsent = w1 + \" \" + subj + \" \" + pred[:-1] + \"?\"\n",
        "        mytext = \"I'll make it to a yes-no question: \" + newsent\n",
        "        print(\"Yes-no question: \", newsent)\n",
        "  elif cat1[0] not in pronouns and cat1[0] not in names:\n",
        "        b = result[1]\n",
        "        be = \" \"+b+\" \"\n",
        "        ss = sentence.split(be)\n",
        "        subj = ss[0]\n",
        "        nsubj = subj[0].lower()+subj[1:]\n",
        "        pred = ss[1]\n",
        "        w1 = b[0].upper() + b[1:] # Capitalized be verb\n",
        "        newsent = w1 + \" \" + nsubj + \" \" + pred[:-1] + \"?\"\n",
        "        mytext = \"I'll make it to a yes-no question: \" + newsent\n",
        "        print(\"Yes-no question: \", newsent)\n",
        "\n",
        "else:\n",
        "    mytext = \"The sentence you\\' provided does not contain a 'Be' verb. Try again.\"\n",
        "    print(\"Type a sentence that contains a be verb.\")\n",
        "\n",
        "etts(mytext)\n",
        "Audio(\"E-audio.mp3\",autoplay=True)"
      ],
      "metadata": {
        "cellView": "form",
        "id": "ZjPSWFub-55P",
        "outputId": "3e94380c-2b3e-4249-d220-a95615d97204",
        "colab": {
          "base_uri": "https://localhost:8080/",
          "height": 129
        }
      },
      "execution_count": 6,
      "outputs": [
        {
          "output_type": "stream",
          "name": "stdout",
          "text": [
            "Type a sentence containing a be verb: e.g., I am a students.\n",
            "Jessica is sleeping in the class.\n",
            "Yes-no question:  Is Jessica sleeping in the class?\n"
          ]
        },
        {
          "output_type": "execute_result",
          "data": {
            "text/plain": [
              "<IPython.lib.display.Audio object>"
            ],
            "text/html": [
              "\n",
              "                <audio  controls=\"controls\" autoplay=\"autoplay\">\n",
              "                    <source src=\"data:audio/mpeg;base64,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\" type=\"audio/mpeg\" />\n",
              "                    Your browser does not support the audio element.\n",
              "                </audio>\n",
              "              "
            ]
          },
          "metadata": {},
          "execution_count": 6
        }
      ]
    },
    {
      "cell_type": "markdown",
      "source": [
        "## 💦**Demo 3: Story game**"
      ],
      "metadata": {
        "id": "UG0_f0gJQl1r"
      }
    },
    {
      "cell_type": "code",
      "source": [
        "#@markdown Adventure game with reading\n",
        "print(\"Welcome to the adventure game!\")\n",
        "print(\"=\"*50)\n",
        "print(\"You are a high school student who has been chosen to embark on a quest to save your town from a mysterious curse.\")\n",
        "print(\"You will face various challenges and choices along the way, and your decisions will determine the outcome of the story.\")\n",
        "print(\"=\"*50)\n",
        "name = input(\"What is your name? \")\n",
        "print(\"=\"*50)\n",
        "print(f\"Nice to meet you, {name}! Are you ready to begin?\")\n",
        "print(\"=\"*50)\n",
        "# Start of the story\n",
        "print(\"You wake up one morning to find that your town is covered in a thick fog.\")\n",
        "print(\"People are starting to get sick, and strange things are happening.\")\n",
        "print(\"You decide to investigate and find out that a curse has been cast upon the town.\")\n",
        "print(\"You meet a wise old sage who tells you that the only way to lift the curse is to find a magical artifact that is hidden in a dangerous dungeon.\")\n",
        "print(\"=\"*50)\n",
        "# First choice\n",
        "print(\"You have two options:\")\n",
        "print(\"Option 1: Search for clues in the town.\")\n",
        "print(\"Option 2: Go straight to the dungeon.\")\n",
        "print(\"=\"*50)\n",
        "choice = input(\"Which option do you choose? (1 or 2) \")\n",
        "print(\"=\"*50)\n",
        "if choice == \"1\":\n",
        "    print(\"You spend the day talking to townspeople and searching for clues.\")\n",
        "    print(\"You find a cryptic message that leads you to a hidden cave.\")\n",
        "elif choice == \"2\":\n",
        "    print(\"You journey to the dungeon and face many dangers along the way.\")\n",
        "    print(\"You eventually reach the entrance to the dungeon.\")\n",
        "print(\"=\"*50)\n",
        "# Second choice\n",
        "print(\"You have two options:\")\n",
        "print(\"Option 1: Enter the cave.\")\n",
        "print(\"Option 2: Enter the dungeon.\")\n",
        "print(\"=\"*50)\n",
        "choice = input(\"Which option do you choose? (1 or 2) \")\n",
        "print(\"=\"*50)\n",
        "if choice == \"1\":\n",
        "    print(\"=\"*50)\n",
        "    print(\"You enter the cave and find the magical artifact!\")\n",
        "    print(\"You bring it back to the town and the curse is lifted.\")\n",
        "    print(\"Congratulations! You have saved the town!\")\n",
        "    print(\"=\"*50)\n",
        "elif choice == \"2\":\n",
        "    print(\"=\"*50)\n",
        "    print(\"You enter the dungeon and face many challenges.\")\n",
        "    print(\"You eventually find the magical artifact, but it is guarded by a powerful monster.\")\n",
        "    print(\"You must defeat the monster to retrieve the artifact.\")\n",
        "    print(\"You engage in a fierce battle!\")\n",
        "    print(\"You lost the battle and the curse remains.\")\n",
        "    print(\"Brave You! Though the curse remains, people appreicate your effort.\")\n",
        "    print(\"=\"*50)\n"
      ],
      "metadata": {
        "cellView": "form",
        "id": "qBAUNW9qP75J",
        "outputId": "78358124-0a87-4510-9700-9c0546472602",
        "colab": {
          "base_uri": "https://localhost:8080/"
        }
      },
      "execution_count": 7,
      "outputs": [
        {
          "output_type": "stream",
          "name": "stdout",
          "text": [
            "Welcome to the adventure game!\n",
            "==================================================\n",
            "You are a high school student who has been chosen to embark on a quest to save your town from a mysterious curse.\n",
            "You will face various challenges and choices along the way, and your decisions will determine the outcome of the story.\n",
            "==================================================\n",
            "What is your name? Suyeon\n",
            "==================================================\n",
            "Nice to meet you, Suyeon! Are you ready to begin?\n",
            "==================================================\n",
            "You wake up one morning to find that your town is covered in a thick fog.\n",
            "People are starting to get sick, and strange things are happening.\n",
            "You decide to investigate and find out that a curse has been cast upon the town.\n",
            "You meet a wise old sage who tells you that the only way to lift the curse is to find a magical artifact that is hidden in a dangerous dungeon.\n",
            "==================================================\n",
            "You have two options:\n",
            "Option 1: Search for clues in the town.\n",
            "Option 2: Go straight to the dungeon.\n",
            "==================================================\n",
            "Which option do you choose? (1 or 2) 2\n",
            "==================================================\n",
            "You journey to the dungeon and face many dangers along the way.\n",
            "You eventually reach the entrance to the dungeon.\n",
            "==================================================\n",
            "You have two options:\n",
            "Option 1: Enter the cave.\n",
            "Option 2: Enter the dungeon.\n",
            "==================================================\n",
            "Which option do you choose? (1 or 2) 2\n",
            "==================================================\n",
            "==================================================\n",
            "You enter the dungeon and face many challenges.\n",
            "You eventually find the magical artifact, but it is guarded by a powerful monster.\n",
            "You must defeat the monster to retrieve the artifact.\n",
            "You engage in a fierce battle!\n",
            "You lost the battle and the curse remains.\n",
            "Brave You! Though the curse remains, people appreicate your effort.\n",
            "==================================================\n"
          ]
        }
      ]
    },
    {
      "cell_type": "code",
      "source": [
        "#@markdown Story game with listening (audio)\n",
        "from gtts import gTTS\n",
        "import IPython.display as ipd\n",
        "\n",
        "def play_audio(text):\n",
        "    language = 'en'\n",
        "    audio = gTTS(text=text, lang=language, slow=False)\n",
        "    audio.save(\"audio.mp3\")\n",
        "    ipd.display(ipd.Audio(\"audio.mp3\", autoplay=True))\n",
        "\n",
        "# Introduction\n",
        "play_audio(\"Welcome to the story game. You are walking home from school when you hear footsteps behind you. You look back and see a shady figure in the distance. What do you do?\")\n",
        "ipd.clear_output(wait=True)\n",
        "input(\"Press Enter to continue...\")\n",
        "\n",
        "# Stage 1\n",
        "play_audio(\"You decide to run. Do you run towards the park or towards the busy street?\")\n",
        "ipd.clear_output(wait=True)\n",
        "choice = input(\"Enter 1 to run towards the park, or 2 to run towards the busy street: \")\n",
        "if choice == \"1\":\n",
        "    play_audio(\"You run towards the park and manage to lose the shady figure. You continue walking home and make it back safely.\")\n",
        "elif choice == \"2\":\n",
        "    play_audio(\"You run towards the busy street, hoping to find someone to help you. As you get closer, you realize that the figure is a police officer. You stop and explain what happened, and the officer escorts you home safely.\")\n",
        "ipd.clear_output(wait=True)\n",
        "input(\"Press Enter to continue...\")\n",
        "\n",
        "# Stage 2\n",
        "play_audio(\"You arrive home and find that your front door is slightly open. Do you go inside or call the police?\")\n",
        "ipd.clear_output(wait=True)\n",
        "choice = input(\"Enter 1 to go inside, or 2 to call the police: \")\n",
        "if choice == \"1\":\n",
        "    play_audio(\"You cautiously enter your home and find that everything is as you left it. You breathe a sigh of relief and go about your evening.\")\n",
        "elif choice == \"2\":\n",
        "    play_audio(\"You call the police and they arrive shortly after. They search your home and find no one inside. You spend the night at a friend's house and return home the next day.\")\n",
        "ipd.clear_output(wait=True)\n",
        "input(\"Press Enter to continue...\")\n",
        "\n",
        "# Conclusion\n",
        "play_audio(\"Good choice! you have successfully made it home safely. Thanks for playing!\")\n",
        "ipd.clear_output(wait=True)\n"
      ],
      "metadata": {
        "cellView": "form",
        "id": "mx_BDEl-TqLe",
        "outputId": "b97b7b3e-a797-4c14-dce1-a5bce3e71211",
        "colab": {
          "base_uri": "https://localhost:8080/",
          "height": 93
        }
      },
      "execution_count": 14,
      "outputs": [
        {
          "name": "stdout",
          "output_type": "stream",
          "text": [
            "Press Enter to continue...\n"
          ]
        },
        {
          "output_type": "display_data",
          "data": {
            "text/plain": [
              "<IPython.lib.display.Audio object>"
            ],
            "text/html": [
              "\n",
              "                <audio  controls=\"controls\" autoplay=\"autoplay\">\n",
              "                    <source src=\"data:audio/mpeg;base64,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\" type=\"audio/mpeg\" />\n",
              "                    Your browser does not support the audio element.\n",
              "                </audio>\n",
              "              "
            ]
          },
          "metadata": {}
        }
      ]
    },
    {
      "cell_type": "markdown",
      "source": [
        "---\n",
        "# 📙Concepts and elements to cover for our goal:\n",
        "\n",
        "0. Importing modules: Explain how to import a module (like random) and use its functions (like random.shuffle()).\n",
        "\n",
        "1. Python basics: Basic data types (strings, integers, lists, dictionaries), variables, and basic input/output functions (like print() and input()).\n",
        "\n",
        "2. String manipulation: Cover string methods like .strip() and .lower().\n",
        "3. Control structures: Introduce for loops, while loops, and conditional statements (if, elif, else).\n",
        "\n",
        "4. Functions: Explain how to define and use functions, including function parameters. \n",
        "\n",
        "5. F-strings: Introduce f-strings (formatted string literals) and how to embed expressions inside string literals using curly braces {}.\n",
        "---"
      ],
      "metadata": {
        "id": "2VMRdKbJwOsk"
      }
    },
    {
      "cell_type": "markdown",
      "source": [
        "# [0] Importing modules\n",
        "\n",
        "1. **function, (class), module, package, and library**\n",
        "\n",
        "> (class) > functions\n",
        "\n",
        "\n",
        "2. Let's use the analogy of a toolbox: \n",
        "\n",
        "+ **a module** is a single tool, (e.g., random) \n",
        "+ **a package** is a toolbox containing multiple tools (e.g., gTTS)\n",
        "+ **a library** is a set of toolboxes designed for a specific purpose. (e.g., nltk - Natural Language Tool Kit) _>> Next time_"
      ],
      "metadata": {
        "id": "wgZEzhkQwzc3"
      }
    },
    {
      "cell_type": "markdown",
      "source": [
        "##A. 'gTTS' package"
      ],
      "metadata": {
        "id": "298wKG9q7-rN"
      }
    },
    {
      "cell_type": "code",
      "source": [
        "!pip install gtts\n",
        "!pip install IPython\n",
        "from gtts import gTTS\n",
        "from IPython.display import Audio, display #외울필요 없음 어디에 사용되는지 알기기\n"
      ],
      "metadata": {
        "id": "YLCRqNbW8E9J",
        "outputId": "234bc207-3597-4bb6-c0f1-5602359a3ef0",
        "colab": {
          "base_uri": "https://localhost:8080/"
        }
      },
      "execution_count": 15,
      "outputs": [
        {
          "output_type": "stream",
          "name": "stdout",
          "text": [
            "Looking in indexes: https://pypi.org/simple, https://us-python.pkg.dev/colab-wheels/public/simple/\n",
            "Requirement already satisfied: gtts in /usr/local/lib/python3.9/dist-packages (2.3.1)\n",
            "Requirement already satisfied: click<8.2,>=7.1 in /usr/local/lib/python3.9/dist-packages (from gtts) (8.1.3)\n",
            "Requirement already satisfied: requests<3,>=2.27 in /usr/local/lib/python3.9/dist-packages (from gtts) (2.27.1)\n",
            "Requirement already satisfied: idna<4,>=2.5 in /usr/local/lib/python3.9/dist-packages (from requests<3,>=2.27->gtts) (3.4)\n",
            "Requirement already satisfied: charset-normalizer~=2.0.0 in /usr/local/lib/python3.9/dist-packages (from requests<3,>=2.27->gtts) (2.0.12)\n",
            "Requirement already satisfied: certifi>=2017.4.17 in /usr/local/lib/python3.9/dist-packages (from requests<3,>=2.27->gtts) (2022.12.7)\n",
            "Requirement already satisfied: urllib3<1.27,>=1.21.1 in /usr/local/lib/python3.9/dist-packages (from requests<3,>=2.27->gtts) (1.26.15)\n",
            "Looking in indexes: https://pypi.org/simple, https://us-python.pkg.dev/colab-wheels/public/simple/\n",
            "Requirement already satisfied: IPython in /usr/local/lib/python3.9/dist-packages (7.34.0)\n",
            "Requirement already satisfied: pickleshare in /usr/local/lib/python3.9/dist-packages (from IPython) (0.7.5)\n",
            "Requirement already satisfied: setuptools>=18.5 in /usr/local/lib/python3.9/dist-packages (from IPython) (67.6.1)\n",
            "Requirement already satisfied: jedi>=0.16 in /usr/local/lib/python3.9/dist-packages (from IPython) (0.18.2)\n",
            "Requirement already satisfied: pygments in /usr/local/lib/python3.9/dist-packages (from IPython) (2.14.0)\n",
            "Requirement already satisfied: backcall in /usr/local/lib/python3.9/dist-packages (from IPython) (0.2.0)\n",
            "Requirement already satisfied: pexpect>4.3 in /usr/local/lib/python3.9/dist-packages (from IPython) (4.8.0)\n",
            "Requirement already satisfied: traitlets>=4.2 in /usr/local/lib/python3.9/dist-packages (from IPython) (5.7.1)\n",
            "Requirement already satisfied: matplotlib-inline in /usr/local/lib/python3.9/dist-packages (from IPython) (0.1.6)\n",
            "Requirement already satisfied: decorator in /usr/local/lib/python3.9/dist-packages (from IPython) (4.4.2)\n",
            "Requirement already satisfied: prompt-toolkit!=3.0.0,!=3.0.1,<3.1.0,>=2.0.0 in /usr/local/lib/python3.9/dist-packages (from IPython) (3.0.38)\n",
            "Requirement already satisfied: parso<0.9.0,>=0.8.0 in /usr/local/lib/python3.9/dist-packages (from jedi>=0.16->IPython) (0.8.3)\n",
            "Requirement already satisfied: ptyprocess>=0.5 in /usr/local/lib/python3.9/dist-packages (from pexpect>4.3->IPython) (0.7.0)\n",
            "Requirement already satisfied: wcwidth in /usr/local/lib/python3.9/dist-packages (from prompt-toolkit!=3.0.0,!=3.0.1,<3.1.0,>=2.0.0->IPython) (0.2.6)\n"
          ]
        }
      ]
    },
    {
      "cell_type": "code",
      "source": [
        "#@markdown etts(), ktts()             #def알기기\n",
        "def etts(text):\n",
        "  text_to_say = text\n",
        "\n",
        "  gtts_object = gTTS(text = text_to_say,\n",
        "                     lang = \"en\",\n",
        "                    slow = False)\n",
        "  \n",
        "  gtts_object.save(\"E-audio.mp3\")\n",
        "  return Audio(\"E-audio.mp3\")\n",
        "\n",
        "def ktts(text):\n",
        "  text_to_say = text\n",
        "\n",
        "  gtts_object = gTTS(text = text_to_say,\n",
        "                     lang = \"ko\", \n",
        "                    slow = False)\n",
        "  \n",
        "  gtts_object.save(\"K-audio.mp3\")\n",
        "  return Audio(\"K-audio.mp3\")"
      ],
      "metadata": {
        "id": "bYDfENzGRUFb"
      },
      "execution_count": 17,
      "outputs": []
    },
    {
      "cell_type": "markdown",
      "source": [
        "## B. 'random' module\n",
        "\n",
        "[Random Picker App using 'random'](https://github.com/MK316/Spring2023/blob/main/RandomPickerS23.ipynb)"
      ],
      "metadata": {
        "id": "vSFe_Umb68o9"
      }
    },
    {
      "cell_type": "code",
      "source": [
        "import random"
      ],
      "metadata": {
        "id": "t8tYICF_1Yx8"
      },
      "execution_count": 18,
      "outputs": []
    },
    {
      "cell_type": "markdown",
      "source": [
        "Return a number between 3 and 9 (both included):"
      ],
      "metadata": {
        "id": "RlWQ5dXark-r"
      }
    },
    {
      "cell_type": "code",
      "source": [
        "random.randint(1, 10) #random.randint(x,y)는 함수이므로 문법대로 사용해야 함."
      ],
      "metadata": {
        "colab": {
          "base_uri": "https://localhost:8080/"
        },
        "id": "sMf1Ow7W11EZ",
        "outputId": "6e6a4e3b-c361-432b-b768-824f4cd4ef54"
      },
      "execution_count": 19,
      "outputs": [
        {
          "output_type": "execute_result",
          "data": {
            "text/plain": [
              "7"
            ]
          },
          "metadata": {},
          "execution_count": 19
        }
      ]
    },
    {
      "cell_type": "code",
      "source": [
        "a1 = random.randint(1, 10)\n",
        "a1*10  #변수를 이용하면 결과값을 이용한 다른 연산이나 작업이 가능하다."
      ],
      "metadata": {
        "colab": {
          "base_uri": "https://localhost:8080/"
        },
        "id": "WUVN9-Rs825s",
        "outputId": "75658c72-8ec8-49bb-8985-b03f5d4ecce6"
      },
      "execution_count": 21,
      "outputs": [
        {
          "output_type": "execute_result",
          "data": {
            "text/plain": [
              "50"
            ]
          },
          "metadata": {},
          "execution_count": 21
        }
      ]
    },
    {
      "cell_type": "markdown",
      "source": [
        "# [1] Python basics: \n",
        "\n",
        "+ Basic data types (strings, integers, lists, dictionaries), \n",
        "+ variables, \n",
        "+ basic input/output functions (like print() and input()).\n",
        "\n"
      ],
      "metadata": {
        "id": "_vTm-kXl8qa_"
      }
    },
    {
      "cell_type": "markdown",
      "source": [
        "## [1-1] Basic data types"
      ],
      "metadata": {
        "id": "qaQ0_hkoENRX"
      }
    },
    {
      "cell_type": "markdown",
      "source": [
        "### A. strings"
      ],
      "metadata": {
        "id": "HB86s1k990Hh"
      }
    },
    {
      "cell_type": "code",
      "source": [
        "a2 = \"Welcome\"\n",
        "a3 = \"2023\""
      ],
      "metadata": {
        "id": "L_OImwSL94Kr"
      },
      "execution_count": null,
      "outputs": []
    },
    {
      "cell_type": "markdown",
      "source": [
        "☺️ DIY: How to get \"Welcome, 2023!\""
      ],
      "metadata": {
        "id": "wkYUBwu1-IvG"
      }
    },
    {
      "cell_type": "code",
      "source": [],
      "metadata": {
        "id": "XZ2LHJcl9_u4",
        "outputId": "f6b592bd-8a7f-4b62-e14f-f97e80cdece8",
        "colab": {
          "base_uri": "https://localhost:8080/",
          "height": 35
        }
      },
      "execution_count": null,
      "outputs": [
        {
          "output_type": "execute_result",
          "data": {
            "text/plain": [
              "'Welcome, 2023!'"
            ],
            "application/vnd.google.colaboratory.intrinsic+json": {
              "type": "string"
            }
          },
          "metadata": {},
          "execution_count": 20
        }
      ]
    },
    {
      "cell_type": "markdown",
      "source": [
        "☺️ DIY: Let a4 = \"화이팅\", and get '화이팅화이팅화이팅화이팅화이팅화이팅화이팅화이팅화이팅화이팅'(10번)"
      ],
      "metadata": {
        "id": "WNaHBznU-yEd"
      }
    },
    {
      "cell_type": "code",
      "source": [],
      "metadata": {
        "id": "0vfPcih3-xg4",
        "outputId": "be3891a2-8eba-4f0b-a31b-9e0ed445871a",
        "colab": {
          "base_uri": "https://localhost:8080/",
          "height": 35
        }
      },
      "execution_count": null,
      "outputs": [
        {
          "output_type": "execute_result",
          "data": {
            "text/plain": [
              "'화이팅화이팅화이팅화이팅화이팅화이팅화이팅화이팅화이팅화이팅'"
            ],
            "application/vnd.google.colaboratory.intrinsic+json": {
              "type": "string"
            }
          },
          "metadata": {},
          "execution_count": 21
        }
      ]
    },
    {
      "cell_type": "code",
      "source": [
        "type(a2). # data type of the variable a2"
      ],
      "metadata": {
        "colab": {
          "base_uri": "https://localhost:8080/"
        },
        "id": "1XroWNyGADZU",
        "outputId": "05a0322b-a18c-401f-8aa2-ec8a7975d907"
      },
      "execution_count": null,
      "outputs": [
        {
          "output_type": "execute_result",
          "data": {
            "text/plain": [
              "str"
            ]
          },
          "metadata": {},
          "execution_count": 22
        }
      ]
    },
    {
      "cell_type": "markdown",
      "source": [
        "###B. Integers, float"
      ],
      "metadata": {
        "id": "kpNXrqZ2_9I2"
      }
    },
    {
      "cell_type": "code",
      "source": [
        "x1 = 45; y1 = 0.5\n",
        "x1 * y1"
      ],
      "metadata": {
        "colab": {
          "base_uri": "https://localhost:8080/"
        },
        "id": "CEs2BHNbAB1Q",
        "outputId": "e63af813-d7ca-422b-91d2-75a50ef4564e"
      },
      "execution_count": null,
      "outputs": [
        {
          "output_type": "execute_result",
          "data": {
            "text/plain": [
              "22.5"
            ]
          },
          "metadata": {},
          "execution_count": 23
        }
      ]
    },
    {
      "cell_type": "code",
      "source": [],
      "metadata": {
        "id": "2WarI3IQsRJX",
        "outputId": "8304e3e2-9753-45f0-adb6-b2da469a304a",
        "colab": {
          "base_uri": "https://localhost:8080/"
        }
      },
      "execution_count": null,
      "outputs": [
        {
          "output_type": "execute_result",
          "data": {
            "text/plain": [
              "float"
            ]
          },
          "metadata": {},
          "execution_count": 24
        }
      ]
    },
    {
      "cell_type": "markdown",
      "source": [
        "### C. List datatype"
      ],
      "metadata": {
        "id": "S7PJcJFkBO46"
      }
    },
    {
      "cell_type": "code",
      "source": [
        "x2 = [1,2,3]\n",
        "x2"
      ],
      "metadata": {
        "colab": {
          "base_uri": "https://localhost:8080/"
        },
        "id": "LjSEH6lABR98",
        "outputId": "eb284b7f-40ef-48c5-ea6f-926543a1ee7b"
      },
      "execution_count": null,
      "outputs": [
        {
          "output_type": "execute_result",
          "data": {
            "text/plain": [
              "[1, 2, 3]"
            ]
          },
          "metadata": {},
          "execution_count": 26
        }
      ]
    },
    {
      "cell_type": "markdown",
      "source": [
        "x2[index]: Python index starts from 0"
      ],
      "metadata": {
        "id": "xcPyj0Fesdiu"
      }
    },
    {
      "cell_type": "code",
      "source": [
        "x2[0]"
      ],
      "metadata": {
        "id": "VGWl1av6BYGu"
      },
      "execution_count": null,
      "outputs": []
    },
    {
      "cell_type": "code",
      "source": [
        "# range(x,y)\n",
        "x3 = range(1,10)\n",
        "list(x3)  #list(), range(1,10)"
      ],
      "metadata": {
        "colab": {
          "base_uri": "https://localhost:8080/"
        },
        "id": "WNmjoCQ1ANr4",
        "outputId": "9e1cf838-bd7f-47f5-def6-731599ef24a5"
      },
      "execution_count": null,
      "outputs": [
        {
          "output_type": "execute_result",
          "data": {
            "text/plain": [
              "[1, 2, 3, 4, 5, 6, 7, 8, 9]"
            ]
          },
          "metadata": {},
          "execution_count": 28
        }
      ]
    },
    {
      "cell_type": "code",
      "source": [
        "x4 = \"John\"\n",
        "list(x4)"
      ],
      "metadata": {
        "colab": {
          "base_uri": "https://localhost:8080/"
        },
        "id": "amRP-ytuBlO6",
        "outputId": "a8eeef49-a6aa-4452-f9e2-d933278c0bdc"
      },
      "execution_count": null,
      "outputs": [
        {
          "output_type": "execute_result",
          "data": {
            "text/plain": [
              "['J', 'o', 'h', 'n']"
            ]
          },
          "metadata": {},
          "execution_count": 29
        }
      ]
    },
    {
      "cell_type": "markdown",
      "source": [
        "###D. Dictionary datatype: {'key':'value'}\n",
        "\n",
        "In Python, a dictionary is a built-in data type that represents a collection of key-value pairs. Each key-value pair in a dictionary is separated by a colon (:), and each pair is separated by a comma. "
      ],
      "metadata": {
        "id": "ZoyOSN_QCCdO"
      }
    },
    {
      "cell_type": "code",
      "source": [
        "mydict = {\"API\":\"Application Programming Interface\", \"GPT\":\"Generative Pretrained Transformer\"}\n",
        "mydict['API']"
      ],
      "metadata": {
        "colab": {
          "base_uri": "https://localhost:8080/",
          "height": 35
        },
        "id": "PdRkfL3JBMWK",
        "outputId": "0e165aee-8079-4359-c38e-64e33c14c9ac"
      },
      "execution_count": null,
      "outputs": [
        {
          "output_type": "execute_result",
          "data": {
            "text/plain": [
              "'Application Programming Interface'"
            ],
            "application/vnd.google.colaboratory.intrinsic+json": {
              "type": "string"
            }
          },
          "metadata": {},
          "execution_count": 30
        }
      ]
    },
    {
      "cell_type": "code",
      "source": [
        "mydict['GPT']"
      ],
      "metadata": {
        "id": "muVfPouBs47b",
        "outputId": "1d08be3c-9e45-4a57-c0e4-1d7ff7368986",
        "colab": {
          "base_uri": "https://localhost:8080/",
          "height": 35
        }
      },
      "execution_count": null,
      "outputs": [
        {
          "output_type": "execute_result",
          "data": {
            "text/plain": [
              "'Generative Pretrained Transformer'"
            ],
            "application/vnd.google.colaboratory.intrinsic+json": {
              "type": "string"
            }
          },
          "metadata": {},
          "execution_count": 31
        }
      ]
    },
    {
      "cell_type": "code",
      "source": [
        "class_size = {\"Class A\": 25, \"Class B\": 30, \"Class C\": 32}\n",
        "class_size['Class C']"
      ],
      "metadata": {
        "colab": {
          "base_uri": "https://localhost:8080/"
        },
        "id": "WBs-NrEJDQRC",
        "outputId": "6c9a6b9f-6471-4424-a133-d47bb0d08f8c"
      },
      "execution_count": null,
      "outputs": [
        {
          "output_type": "execute_result",
          "data": {
            "text/plain": [
              "32"
            ]
          },
          "metadata": {},
          "execution_count": 32
        }
      ]
    },
    {
      "cell_type": "markdown",
      "source": [
        "## [1-2] Variables"
      ],
      "metadata": {
        "id": "0m_ux_SoEUos"
      }
    },
    {
      "cell_type": "markdown",
      "source": [
        "## [1-3] input/output functions"
      ],
      "metadata": {
        "id": "YUasz63dEYAX"
      }
    },
    {
      "cell_type": "code",
      "source": [
        "mynumber = 2\n",
        "mynumber"
      ],
      "metadata": {
        "colab": {
          "base_uri": "https://localhost:8080/"
        },
        "id": "BSp7TWkeEfmz",
        "outputId": "3bcd84d2-c721-4bc7-da68-a245706b8b5c"
      },
      "execution_count": null,
      "outputs": [
        {
          "output_type": "execute_result",
          "data": {
            "text/plain": [
              "2"
            ]
          },
          "metadata": {},
          "execution_count": 87
        }
      ]
    },
    {
      "cell_type": "code",
      "source": [
        "yournumber = input()  # In Python, input() is a built-in function that allows you to get user input from the keyboard. \n",
        "yournumber"
      ],
      "metadata": {
        "colab": {
          "base_uri": "https://localhost:8080/",
          "height": 53
        },
        "id": "6LZudH_0En_w",
        "outputId": "783d5cc3-75a8-465a-963e-b294e0816f0a"
      },
      "execution_count": null,
      "outputs": [
        {
          "name": "stdout",
          "output_type": "stream",
          "text": [
            "4\n"
          ]
        },
        {
          "output_type": "execute_result",
          "data": {
            "text/plain": [
              "'4'"
            ],
            "application/vnd.google.colaboratory.intrinsic+json": {
              "type": "string"
            }
          },
          "metadata": {},
          "execution_count": 33
        }
      ]
    },
    {
      "cell_type": "markdown",
      "source": [
        "☺️ After running the code below, can you tell what the resulting output means?"
      ],
      "metadata": {
        "id": "-Z1mQqzlH4k5"
      }
    },
    {
      "cell_type": "code",
      "source": [
        "yournumber*5"
      ],
      "metadata": {
        "colab": {
          "base_uri": "https://localhost:8080/",
          "height": 35
        },
        "id": "5cGgSs3qHxG_",
        "outputId": "61f4269a-ed03-4cae-f717-7f70b0c34f76"
      },
      "execution_count": null,
      "outputs": [
        {
          "output_type": "execute_result",
          "data": {
            "text/plain": [
              "'44444'"
            ],
            "application/vnd.google.colaboratory.intrinsic+json": {
              "type": "string"
            }
          },
          "metadata": {},
          "execution_count": 34
        }
      ]
    },
    {
      "cell_type": "code",
      "source": [
        "type(yournumber)"
      ],
      "metadata": {
        "colab": {
          "base_uri": "https://localhost:8080/"
        },
        "id": "664rKEalISSY",
        "outputId": "5314bd92-1d93-4d40-d399-b18d7d3b8930"
      },
      "execution_count": null,
      "outputs": [
        {
          "output_type": "execute_result",
          "data": {
            "text/plain": [
              "str"
            ]
          },
          "metadata": {},
          "execution_count": 35
        }
      ]
    },
    {
      "cell_type": "code",
      "source": [
        "yournumber = int(yournumber) # changing the type of the value to integer\n",
        "type(yournumber)"
      ],
      "metadata": {
        "colab": {
          "base_uri": "https://localhost:8080/"
        },
        "id": "u_ocEyoAIVC4",
        "outputId": "cae55304-aabb-4b25-bf49-c0c051815f76"
      },
      "execution_count": null,
      "outputs": [
        {
          "output_type": "execute_result",
          "data": {
            "text/plain": [
              "int"
            ]
          },
          "metadata": {},
          "execution_count": 36
        }
      ]
    },
    {
      "cell_type": "markdown",
      "source": [
        "Getting output:"
      ],
      "metadata": {
        "id": "Z9Kzd8ZW7Bri"
      }
    },
    {
      "cell_type": "code",
      "source": [
        "# print() 함수 배우기\n",
        "print(\"대한민국\")\n",
        "\n",
        "a2 = \"화이팅!\"  # a1: variable(변수)\n",
        "print(a2)\n",
        "print(a2*10)\n",
        "print(\"화이팅 10번 합시다: \", a2*10)\n",
        "a2"
      ],
      "metadata": {
        "id": "aQXDo7u-4-18",
        "outputId": "d02c1b36-7980-4293-8168-c3d350b08205",
        "colab": {
          "base_uri": "https://localhost:8080/",
          "height": 105
        }
      },
      "execution_count": null,
      "outputs": [
        {
          "output_type": "stream",
          "name": "stdout",
          "text": [
            "대한민국\n",
            "화이팅!\n",
            "화이팅!화이팅!화이팅!화이팅!화이팅!화이팅!화이팅!화이팅!화이팅!화이팅!\n",
            "화이팅 10번 합시다:  화이팅!화이팅!화이팅!화이팅!화이팅!화이팅!화이팅!화이팅!화이팅!화이팅!\n"
          ]
        },
        {
          "output_type": "execute_result",
          "data": {
            "text/plain": [
              "'화이팅!'"
            ],
            "application/vnd.google.colaboratory.intrinsic+json": {
              "type": "string"
            }
          },
          "metadata": {},
          "execution_count": 37
        }
      ]
    },
    {
      "cell_type": "code",
      "source": [
        "print(a2)\n",
        "print(\"=\"*30)\n",
        "a1=random.randint(1,10)\n",
        "print(\"Random integer between 1 and 10:\", a1)"
      ],
      "metadata": {
        "colab": {
          "base_uri": "https://localhost:8080/"
        },
        "id": "0jdQu65F2ZWw",
        "outputId": "3a5d1c38-1e5a-4df4-8b8a-e7d3b08ce48b"
      },
      "execution_count": null,
      "outputs": [
        {
          "output_type": "stream",
          "name": "stdout",
          "text": [
            "화이팅!\n",
            "==============================\n",
            "Random integer between 1 and 10: 7\n"
          ]
        }
      ]
    },
    {
      "cell_type": "markdown",
      "source": [
        "☺️DIY: \n",
        "**Q: John and Mary have been together for many days. Ask Mary how many days it has been since she met John. Then you tell Mary how many hours it has been since she met John.**\n",
        "\n",
        "1. Set the variable 'day' to 24\n",
        "2. Set the variable 'num_day' for the input from the user. Get a number (number of days) from the user using input() function\n",
        "2. Calculate days to hours: set the variable 'hours' to the final result."
      ],
      "metadata": {
        "id": "cvkWAvetFtSP"
      }
    },
    {
      "cell_type": "code",
      "source": [
        "day = \n",
        "num_day = \n",
        "hours = \n",
        "print(\"The total hours passed since Mary met John are: \", hours, \"hours.\")"
      ],
      "metadata": {
        "id": "Fdezo9WD1zju",
        "outputId": "174b66de-637f-420b-f218-3dbcf86e8f5b",
        "colab": {
          "base_uri": "https://localhost:8080/"
        }
      },
      "execution_count": null,
      "outputs": [
        {
          "output_type": "stream",
          "name": "stdout",
          "text": [
            "How many days? 23\n",
            "The total hours passed since Mary met John are:  552 hours.\n"
          ]
        }
      ]
    },
    {
      "cell_type": "markdown",
      "source": [
        "#[2] String manipulation: strip() and .lower().\n",
        "\n"
      ],
      "metadata": {
        "id": "zzkVAfU61HDk"
      }
    },
    {
      "cell_type": "markdown",
      "source": [
        "### **data.strip()**\n",
        "\n",
        "+ In Python, strip() is a built-in string method that returns a copy of the string with leading and trailing characters removed. \n",
        "+ By default, strip() removes whitespace characters such as spaces, tabs, and newlines from the beginning and end of the string."
      ],
      "metadata": {
        "id": "sSi_PvE5LTeC"
      }
    },
    {
      "cell_type": "code",
      "source": [
        "w1 = \" Mary is friendly. \"\n",
        "w1"
      ],
      "metadata": {
        "colab": {
          "base_uri": "https://localhost:8080/",
          "height": 35
        },
        "id": "IUtU-qG81XIt",
        "outputId": "e220311b-615a-4482-fcf3-989e2bcf0a26"
      },
      "execution_count": null,
      "outputs": [
        {
          "output_type": "execute_result",
          "data": {
            "text/plain": [
              "' Mary is friendly. '"
            ],
            "application/vnd.google.colaboratory.intrinsic+json": {
              "type": "string"
            }
          },
          "metadata": {},
          "execution_count": 46
        }
      ]
    },
    {
      "cell_type": "code",
      "source": [
        "w1.strip()"
      ],
      "metadata": {
        "colab": {
          "base_uri": "https://localhost:8080/",
          "height": 35
        },
        "id": "ZAhdPbqVKr6e",
        "outputId": "cd233fa9-fd66-4f89-da29-02e5f8e8ddf7"
      },
      "execution_count": null,
      "outputs": [
        {
          "output_type": "execute_result",
          "data": {
            "text/plain": [
              "'Mary is friendly.'"
            ],
            "application/vnd.google.colaboratory.intrinsic+json": {
              "type": "string"
            }
          },
          "metadata": {},
          "execution_count": 47
        }
      ]
    },
    {
      "cell_type": "markdown",
      "source": [
        "### **data.split()**"
      ],
      "metadata": {
        "id": "JGPdtmu8MFgv"
      }
    },
    {
      "cell_type": "code",
      "source": [
        "w1 = \"Mary is friendly.\"\n",
        "w1.split()"
      ],
      "metadata": {
        "colab": {
          "base_uri": "https://localhost:8080/"
        },
        "id": "xbF1sJB9MIpw",
        "outputId": "b9175d5c-0146-44ee-a8dc-9e11d71cdbd9"
      },
      "execution_count": null,
      "outputs": [
        {
          "output_type": "execute_result",
          "data": {
            "text/plain": [
              "['Mary', 'is', 'friendly.']"
            ]
          },
          "metadata": {},
          "execution_count": 48
        }
      ]
    },
    {
      "cell_type": "code",
      "source": [
        "w2 = \"out-of-date\"\n",
        "w2.split('-')"
      ],
      "metadata": {
        "colab": {
          "base_uri": "https://localhost:8080/"
        },
        "id": "IudKgTjkMVQP",
        "outputId": "fffcbccf-0217-466c-bcc2-d35131bd60c7"
      },
      "execution_count": null,
      "outputs": [
        {
          "output_type": "execute_result",
          "data": {
            "text/plain": [
              "['out', 'of', 'date']"
            ]
          },
          "metadata": {},
          "execution_count": 49
        }
      ]
    },
    {
      "cell_type": "code",
      "source": [
        "w1 = \"Mary\"\n",
        "w2 = \"is\"\n",
        "w3 = \"friendly\""
      ],
      "metadata": {
        "id": "tGBOKKKtLvj7"
      },
      "execution_count": null,
      "outputs": []
    },
    {
      "cell_type": "code",
      "source": [
        "wordlist = [w1, w2, w3]\n",
        "wordlist"
      ],
      "metadata": {
        "colab": {
          "base_uri": "https://localhost:8080/"
        },
        "id": "c11AXGr0V_a4",
        "outputId": "f5a0b40c-c834-4888-c9fa-b243ac79243e"
      },
      "execution_count": null,
      "outputs": [
        {
          "output_type": "execute_result",
          "data": {
            "text/plain": [
              "['Mary', 'is', 'friendly']"
            ]
          },
          "metadata": {},
          "execution_count": 51
        }
      ]
    },
    {
      "cell_type": "markdown",
      "source": [
        "### **' '.join()**"
      ],
      "metadata": {
        "id": "Mb-LFWWPWn08"
      }
    },
    {
      "cell_type": "code",
      "source": [
        "' '.join(wordlist)"
      ],
      "metadata": {
        "colab": {
          "base_uri": "https://localhost:8080/",
          "height": 35
        },
        "id": "tZA7DsPPWGmA",
        "outputId": "90221f13-9bd2-40de-da6a-de32c074fb58"
      },
      "execution_count": null,
      "outputs": [
        {
          "output_type": "execute_result",
          "data": {
            "text/plain": [
              "'Mary is friendly'"
            ],
            "application/vnd.google.colaboratory.intrinsic+json": {
              "type": "string"
            }
          },
          "metadata": {},
          "execution_count": 52
        }
      ]
    },
    {
      "cell_type": "code",
      "source": [
        "'-'.join(wordlist)"
      ],
      "metadata": {
        "colab": {
          "base_uri": "https://localhost:8080/",
          "height": 35
        },
        "id": "EjLtWSL5WdYy",
        "outputId": "4ce99690-92b2-4ac7-b8c2-ee45569c21fe"
      },
      "execution_count": null,
      "outputs": [
        {
          "output_type": "execute_result",
          "data": {
            "text/plain": [
              "'Mary-is-friendly'"
            ],
            "application/vnd.google.colaboratory.intrinsic+json": {
              "type": "string"
            }
          },
          "metadata": {},
          "execution_count": 53
        }
      ]
    },
    {
      "cell_type": "markdown",
      "source": [
        "### **data.lower(), data.upper()**"
      ],
      "metadata": {
        "id": "PgCIMbbcL29X"
      }
    },
    {
      "cell_type": "code",
      "source": [
        "w1.lower()"
      ],
      "metadata": {
        "colab": {
          "base_uri": "https://localhost:8080/",
          "height": 35
        },
        "id": "JGqTVM22MuH0",
        "outputId": "118e59a5-ab1a-4271-98b6-5e38fd509488"
      },
      "execution_count": null,
      "outputs": [
        {
          "output_type": "execute_result",
          "data": {
            "text/plain": [
              "'mary'"
            ],
            "application/vnd.google.colaboratory.intrinsic+json": {
              "type": "string"
            }
          },
          "metadata": {},
          "execution_count": 54
        }
      ]
    },
    {
      "cell_type": "code",
      "source": [
        "w1.upper()"
      ],
      "metadata": {
        "colab": {
          "base_uri": "https://localhost:8080/",
          "height": 35
        },
        "id": "fP2lBss3Myhq",
        "outputId": "7b93479c-d868-4f9d-d120-456ed03398a4"
      },
      "execution_count": null,
      "outputs": [
        {
          "output_type": "execute_result",
          "data": {
            "text/plain": [
              "'MARY'"
            ],
            "application/vnd.google.colaboratory.intrinsic+json": {
              "type": "string"
            }
          },
          "metadata": {},
          "execution_count": 55
        }
      ]
    },
    {
      "cell_type": "markdown",
      "source": [
        "string index"
      ],
      "metadata": {
        "id": "yZJk2NtCM_oz"
      }
    },
    {
      "cell_type": "code",
      "source": [
        "len(w1) #number of string"
      ],
      "metadata": {
        "colab": {
          "base_uri": "https://localhost:8080/"
        },
        "id": "HmuiXLZSNGNa",
        "outputId": "a04863f4-d425-4cca-ae44-b0b8506c2910"
      },
      "execution_count": null,
      "outputs": [
        {
          "output_type": "execute_result",
          "data": {
            "text/plain": [
              "4"
            ]
          },
          "metadata": {},
          "execution_count": 56
        }
      ]
    },
    {
      "cell_type": "code",
      "source": [
        "w1[0] #1st string"
      ],
      "metadata": {
        "colab": {
          "base_uri": "https://localhost:8080/",
          "height": 35
        },
        "id": "xiyozLYxM6xk",
        "outputId": "b87c69f9-889e-4473-b142-33ef06d35790"
      },
      "execution_count": null,
      "outputs": [
        {
          "output_type": "execute_result",
          "data": {
            "text/plain": [
              "'M'"
            ],
            "application/vnd.google.colaboratory.intrinsic+json": {
              "type": "string"
            }
          },
          "metadata": {},
          "execution_count": 57
        }
      ]
    },
    {
      "cell_type": "code",
      "source": [
        "w1[-1]"
      ],
      "metadata": {
        "colab": {
          "base_uri": "https://localhost:8080/",
          "height": 35
        },
        "id": "AY_Ii7FhNeof",
        "outputId": "4cda0399-33ee-42f3-bf12-9f6aa11cd329"
      },
      "execution_count": null,
      "outputs": [
        {
          "output_type": "execute_result",
          "data": {
            "text/plain": [
              "'y'"
            ],
            "application/vnd.google.colaboratory.intrinsic+json": {
              "type": "string"
            }
          },
          "metadata": {},
          "execution_count": 58
        }
      ]
    },
    {
      "cell_type": "code",
      "source": [
        "w1[0:]"
      ],
      "metadata": {
        "id": "vhfF3iXwNijx"
      },
      "execution_count": null,
      "outputs": []
    },
    {
      "cell_type": "code",
      "source": [
        "w1[:]"
      ],
      "metadata": {
        "id": "pW4m0FoyNlf4"
      },
      "execution_count": null,
      "outputs": []
    },
    {
      "cell_type": "code",
      "source": [
        "w1[1:3]"
      ],
      "metadata": {
        "id": "tgp9ozDdNpwd"
      },
      "execution_count": null,
      "outputs": []
    },
    {
      "cell_type": "code",
      "source": [
        "w = \"mary\"\n",
        "w[0:-1]"
      ],
      "metadata": {
        "id": "0Su3TuHfPxwh"
      },
      "execution_count": null,
      "outputs": []
    },
    {
      "cell_type": "markdown",
      "source": [
        "☺️ DIY: Convert a statement to a yes-no question (e.g., Mary is smart. Tom is smiling. Jane is late.)"
      ],
      "metadata": {
        "id": "lGVkVdCLNMz0"
      }
    },
    {
      "cell_type": "code",
      "source": [
        "w1 = \"Mary\"; w2 = \"is\"; w3 = \"friendly.\""
      ],
      "metadata": {
        "id": "nz1VNUviNXaJ"
      },
      "execution_count": null,
      "outputs": []
    }
  ]
}