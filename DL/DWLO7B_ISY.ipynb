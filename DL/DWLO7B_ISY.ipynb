{
  "nbformat": 4,
  "nbformat_minor": 0,
  "metadata": {
    "colab": {
      "provenance": [],
      "authorship_tag": "ABX9TyP5AxJYlVc28Ch4TINMSLpV",
      "include_colab_link": true
    },
    "kernelspec": {
      "name": "python3",
      "display_name": "Python 3"
    },
    "language_info": {
      "name": "python"
    }
  },
  "cells": [
    {
      "cell_type": "markdown",
      "metadata": {
        "id": "view-in-github",
        "colab_type": "text"
      },
      "source": [
        "<a href=\"https://colab.research.google.com/github/22suyeonim/DL23/blob/main/DL/DWLO7B_ISY.ipynb\" target=\"_parent\"><img src=\"https://colab.research.google.com/assets/colab-badge.svg\" alt=\"Open In Colab\"/></a>"
      ]
    },
    {
      "cell_type": "markdown",
      "source": [
        "#DLO7B Self-test\n",
        "Strings: A string is a sequence of characters enclosed \n",
        "in single or double quotes. Examples: \"Hello, world!\" or 'Python is great!'\n",
        "\n",
        "\n",
        "Integers: Integers are whole numbers, positive or negative, without any decimal points. Examples: 42, -5, 0\n",
        "\n",
        "\n",
        "\n",
        "\n",
        "\n",
        "\n",
        "\n"
      ],
      "metadata": {
        "id": "XZPbZ2WW-P_L"
      }
    },
    {
      "cell_type": "markdown",
      "source": [
        "Exercise 1"
      ],
      "metadata": {
        "id": "33RR03jE-59_"
      }
    },
    {
      "cell_type": "code",
      "source": [
        "greeting = \"Hello students!\"\n",
        "year = 2023"
      ],
      "metadata": {
        "id": "1_ZQGmwF-7z7"
      },
      "execution_count": 1,
      "outputs": []
    },
    {
      "cell_type": "markdown",
      "source": [
        "Exercise 2"
      ],
      "metadata": {
        "id": "eKecF0YL_Gcv"
      }
    },
    {
      "cell_type": "code",
      "source": [
        "print(greeting)\n",
        "print(year)"
      ],
      "metadata": {
        "colab": {
          "base_uri": "https://localhost:8080/"
        },
        "id": "tWVixCa7_InI",
        "outputId": "ff40c4bc-ec88-409c-9c95-c69fededc611"
      },
      "execution_count": 2,
      "outputs": [
        {
          "output_type": "stream",
          "name": "stdout",
          "text": [
            "Hello students!\n",
            "2023\n"
          ]
        }
      ]
    },
    {
      "cell_type": "markdown",
      "source": [
        "Exercise 3"
      ],
      "metadata": {
        "id": "jTdq41f7_OVT"
      }
    },
    {
      "cell_type": "code",
      "source": [
        "message = greeting + \" \" + str(year)\n",
        "message"
      ],
      "metadata": {
        "colab": {
          "base_uri": "https://localhost:8080/",
          "height": 38
        },
        "id": "1rptKqJY_QPB",
        "outputId": "a05955ab-c312-49bd-da56-e8eb589e6d86"
      },
      "execution_count": 3,
      "outputs": [
        {
          "output_type": "execute_result",
          "data": {
            "text/plain": [
              "'Hello students! 2023'"
            ],
            "application/vnd.google.colaboratory.intrinsic+json": {
              "type": "string"
            }
          },
          "metadata": {},
          "execution_count": 3
        }
      ]
    },
    {
      "cell_type": "markdown",
      "source": [
        "Exercise 4"
      ],
      "metadata": {
        "id": "iNAX8vsc_gqK"
      }
    },
    {
      "cell_type": "code",
      "source": [
        "num1 = 10\n",
        "num2 = 3\n",
        "\n",
        "print(num1 + num2)\n",
        "print(num2-num2)\n",
        "print(num1*num2)\n",
        "print(num1/num2)"
      ],
      "metadata": {
        "colab": {
          "base_uri": "https://localhost:8080/"
        },
        "id": "Ed8c9eHE_zRD",
        "outputId": "d07466ab-eedb-434c-cfa6-c6ce8f8a8283"
      },
      "execution_count": 5,
      "outputs": [
        {
          "output_type": "stream",
          "name": "stdout",
          "text": [
            "13\n",
            "0\n",
            "30\n",
            "3.3333333333333335\n"
          ]
        }
      ]
    },
    {
      "cell_type": "markdown",
      "source": [
        "Exercise 5"
      ],
      "metadata": {
        "id": "KzkhxY-WBRkk"
      }
    },
    {
      "cell_type": "code",
      "source": [
        "user_string = input()"
      ],
      "metadata": {
        "colab": {
          "base_uri": "https://localhost:8080/"
        },
        "id": "DISGpMszAg3F",
        "outputId": "80562b5e-e30c-4b6e-a5ce-18f2349f26d5"
      },
      "execution_count": 7,
      "outputs": [
        {
          "name": "stdout",
          "output_type": "stream",
          "text": [
            "Mary\n"
          ]
        }
      ]
    },
    {
      "cell_type": "code",
      "source": [
        "print(user_string)"
      ],
      "metadata": {
        "colab": {
          "base_uri": "https://localhost:8080/"
        },
        "id": "PyWFYxPNApJ0",
        "outputId": "4629a057-e90c-4dd8-c25e-c68ee4cbc1a4"
      },
      "execution_count": 8,
      "outputs": [
        {
          "output_type": "stream",
          "name": "stdout",
          "text": [
            "Mary\n"
          ]
        }
      ]
    },
    {
      "cell_type": "code",
      "source": [
        "user_number = input(\"Type any number: \")"
      ],
      "metadata": {
        "colab": {
          "base_uri": "https://localhost:8080/"
        },
        "id": "W4n2lUMfAyVj",
        "outputId": "6de5316a-a094-4045-f08b-417743bc4c03"
      },
      "execution_count": 11,
      "outputs": [
        {
          "name": "stdout",
          "output_type": "stream",
          "text": [
            "Type any number: 34\n"
          ]
        }
      ]
    },
    {
      "cell_type": "code",
      "source": [
        "user_string = input(\"Type any number: \")\n",
        "user_number = input(\"Type any number: \")\n",
        "user_number = int(user_number)\n",
        "\n",
        "user_string*user_number\n"
      ],
      "metadata": {
        "colab": {
          "base_uri": "https://localhost:8080/",
          "height": 74
        },
        "id": "kC6_rsOnBea6",
        "outputId": "31bd299f-8ccd-4e5d-ade8-78b905de3824"
      },
      "execution_count": 14,
      "outputs": [
        {
          "name": "stdout",
          "output_type": "stream",
          "text": [
            "Type any number: Hi!\n",
            "Type any number: 3\n"
          ]
        },
        {
          "output_type": "execute_result",
          "data": {
            "text/plain": [
              "'Hi!Hi!Hi!'"
            ],
            "application/vnd.google.colaboratory.intrinsic+json": {
              "type": "string"
            }
          },
          "metadata": {},
          "execution_count": 14
        }
      ]
    },
    {
      "cell_type": "markdown",
      "source": [
        "Exercise 6"
      ],
      "metadata": {
        "id": "Zk1bW3ySDC1b"
      }
    },
    {
      "cell_type": "code",
      "source": [
        "sentence = \"Coding is fun and easy to learn!\"\n",
        "\n",
        "word_list = sentence.split()\n",
        "print(word_list)"
      ],
      "metadata": {
        "colab": {
          "base_uri": "https://localhost:8080/"
        },
        "id": "fJifxRdhDFAg",
        "outputId": "cb0b5ff9-9f74-4136-9345-cd7ad5536db6"
      },
      "execution_count": 15,
      "outputs": [
        {
          "output_type": "stream",
          "name": "stdout",
          "text": [
            "['Coding', 'is', 'fun', 'and', 'easy', 'to', 'learn!']\n"
          ]
        }
      ]
    },
    {
      "cell_type": "markdown",
      "source": [
        "Exercise 7"
      ],
      "metadata": {
        "id": "WMBnCSQbDdLs"
      }
    },
    {
      "cell_type": "code",
      "source": [
        "a = \"Coding is Exciting!\"\n",
        "\n",
        "uppercase_text = a.upper()\n",
        "lowercase_text = a.lower()\n",
        "lowercase_text\n",
        "    \n"
      ],
      "metadata": {
        "colab": {
          "base_uri": "https://localhost:8080/",
          "height": 38
        },
        "id": "12Uph72VDeuP",
        "outputId": "f14e8d4b-d7a8-45ba-a540-010cce870ef4"
      },
      "execution_count": 16,
      "outputs": [
        {
          "output_type": "execute_result",
          "data": {
            "text/plain": [
              "'coding is exciting!'"
            ],
            "application/vnd.google.colaboratory.intrinsic+json": {
              "type": "string"
            }
          },
          "metadata": {},
          "execution_count": 16
        }
      ]
    },
    {
      "cell_type": "markdown",
      "source": [
        "Exercise 8"
      ],
      "metadata": {
        "id": "YkmANoh2D9T2"
      }
    },
    {
      "cell_type": "code",
      "source": [
        "quote = \"To be or not to be, that is the question.\""
      ],
      "metadata": {
        "id": "bapXNbcsD_GP"
      },
      "execution_count": 19,
      "outputs": []
    },
    {
      "cell_type": "code",
      "source": [
        "quote[0]"
      ],
      "metadata": {
        "colab": {
          "base_uri": "https://localhost:8080/",
          "height": 38
        },
        "id": "yhQomPl8EREC",
        "outputId": "7d651c45-19ed-4a10-e671-0e370dc9d996"
      },
      "execution_count": 20,
      "outputs": [
        {
          "output_type": "execute_result",
          "data": {
            "text/plain": [
              "'T'"
            ],
            "application/vnd.google.colaboratory.intrinsic+json": {
              "type": "string"
            }
          },
          "metadata": {},
          "execution_count": 20
        }
      ]
    },
    {
      "cell_type": "code",
      "source": [
        "quote[-1]"
      ],
      "metadata": {
        "colab": {
          "base_uri": "https://localhost:8080/",
          "height": 38
        },
        "id": "7mRU7QsnEZof",
        "outputId": "03c215a3-268d-41ba-8db6-b83c024be304"
      },
      "execution_count": 21,
      "outputs": [
        {
          "output_type": "execute_result",
          "data": {
            "text/plain": [
              "'.'"
            ],
            "application/vnd.google.colaboratory.intrinsic+json": {
              "type": "string"
            }
          },
          "metadata": {},
          "execution_count": 21
        }
      ]
    },
    {
      "cell_type": "code",
      "source": [
        "quote[0:5]"
      ],
      "metadata": {
        "colab": {
          "base_uri": "https://localhost:8080/",
          "height": 38
        },
        "id": "Q-0mEIAtEiW0",
        "outputId": "ccffbed2-77cf-47be-cbc6-f8bf8b0c70e8"
      },
      "execution_count": 22,
      "outputs": [
        {
          "output_type": "execute_result",
          "data": {
            "text/plain": [
              "'To be'"
            ],
            "application/vnd.google.colaboratory.intrinsic+json": {
              "type": "string"
            }
          },
          "metadata": {},
          "execution_count": 22
        }
      ]
    },
    {
      "cell_type": "code",
      "source": [
        "quote[5: ]"
      ],
      "metadata": {
        "colab": {
          "base_uri": "https://localhost:8080/",
          "height": 38
        },
        "id": "V_arPYdXEnJw",
        "outputId": "96dc84f1-77c1-4ed1-f7d1-9653f5842a12"
      },
      "execution_count": 23,
      "outputs": [
        {
          "output_type": "execute_result",
          "data": {
            "text/plain": [
              "' or not to be, that is the question.'"
            ],
            "application/vnd.google.colaboratory.intrinsic+json": {
              "type": "string"
            }
          },
          "metadata": {},
          "execution_count": 23
        }
      ]
    },
    {
      "cell_type": "code",
      "source": [
        "reverse = quote[::-1]\n",
        "print(reverse)"
      ],
      "metadata": {
        "colab": {
          "base_uri": "https://localhost:8080/"
        },
        "id": "c8FCpY6WEusr",
        "outputId": "1d28828a-1f11-4b12-f7a7-34f215b0e506"
      },
      "execution_count": 24,
      "outputs": [
        {
          "output_type": "stream",
          "name": "stdout",
          "text": [
            ".noitseuq eht si taht ,eb ot ton ro eb oT\n"
          ]
        }
      ]
    }
  ]
}